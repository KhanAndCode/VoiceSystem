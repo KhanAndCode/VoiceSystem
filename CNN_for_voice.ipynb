{
  "nbformat": 4,
  "nbformat_minor": 0,
  "metadata": {
    "colab": {
      "name": "CNN_for_voice.ipynb",
      "provenance": [],
      "collapsed_sections": [],
      "toc_visible": true
    },
    "kernelspec": {
      "display_name": "Python 3",
      "name": "python3"
    },
    "accelerator": "GPU"
  },
  "cells": [
    {
      "cell_type": "code",
      "metadata": {
        "id": "ykvEEtG0Akkc",
        "colab": {
          "base_uri": "https://localhost:8080/"
        },
        "outputId": "39630ebd-f24d-4190-f122-895393fe7dff"
      },
      "source": [
        "!pip install torchaudio librosa boto3\n",
        "import torchaudio\n",
        "import torch"
      ],
      "execution_count": null,
      "outputs": [
        {
          "output_type": "stream",
          "text": [
            "Collecting torchaudio\n",
            "\u001b[?25l  Downloading https://files.pythonhosted.org/packages/aa/55/01ad9244bcd595e39cea5ce30726a7fe02fd963d07daeb136bfe7e23f0a5/torchaudio-0.8.1-cp37-cp37m-manylinux1_x86_64.whl (1.9MB)\n",
            "\u001b[K     |████████████████████████████████| 1.9MB 8.2MB/s \n",
            "\u001b[?25hRequirement already satisfied: librosa in /usr/local/lib/python3.7/dist-packages (0.8.0)\n",
            "Collecting boto3\n",
            "\u001b[?25l  Downloading https://files.pythonhosted.org/packages/1e/c2/7091c0cbff9eeb4afb8ddf22ea2c5d6f27b0cfa5f207f5106b647b6614f4/boto3-1.17.88-py2.py3-none-any.whl (131kB)\n",
            "\u001b[K     |████████████████████████████████| 133kB 54.2MB/s \n",
            "\u001b[?25hRequirement already satisfied: torch==1.8.1 in /usr/local/lib/python3.7/dist-packages (from torchaudio) (1.8.1+cu101)\n",
            "Requirement already satisfied: scipy>=1.0.0 in /usr/local/lib/python3.7/dist-packages (from librosa) (1.4.1)\n",
            "Requirement already satisfied: scikit-learn!=0.19.0,>=0.14.0 in /usr/local/lib/python3.7/dist-packages (from librosa) (0.22.2.post1)\n",
            "Requirement already satisfied: soundfile>=0.9.0 in /usr/local/lib/python3.7/dist-packages (from librosa) (0.10.3.post1)\n",
            "Requirement already satisfied: joblib>=0.14 in /usr/local/lib/python3.7/dist-packages (from librosa) (1.0.1)\n",
            "Requirement already satisfied: numpy>=1.15.0 in /usr/local/lib/python3.7/dist-packages (from librosa) (1.19.5)\n",
            "Requirement already satisfied: numba>=0.43.0 in /usr/local/lib/python3.7/dist-packages (from librosa) (0.51.2)\n",
            "Requirement already satisfied: pooch>=1.0 in /usr/local/lib/python3.7/dist-packages (from librosa) (1.3.0)\n",
            "Requirement already satisfied: resampy>=0.2.2 in /usr/local/lib/python3.7/dist-packages (from librosa) (0.2.2)\n",
            "Requirement already satisfied: decorator>=3.0.0 in /usr/local/lib/python3.7/dist-packages (from librosa) (4.4.2)\n",
            "Requirement already satisfied: audioread>=2.0.0 in /usr/local/lib/python3.7/dist-packages (from librosa) (2.1.9)\n",
            "Collecting s3transfer<0.5.0,>=0.4.0\n",
            "\u001b[?25l  Downloading https://files.pythonhosted.org/packages/63/d0/693477c688348654ddc21dcdce0817653a294aa43f41771084c25e7ff9c7/s3transfer-0.4.2-py2.py3-none-any.whl (79kB)\n",
            "\u001b[K     |████████████████████████████████| 81kB 12.0MB/s \n",
            "\u001b[?25hCollecting jmespath<1.0.0,>=0.7.1\n",
            "  Downloading https://files.pythonhosted.org/packages/07/cb/5f001272b6faeb23c1c9e0acc04d48eaaf5c862c17709d20e3469c6e0139/jmespath-0.10.0-py2.py3-none-any.whl\n",
            "Collecting botocore<1.21.0,>=1.20.88\n",
            "\u001b[?25l  Downloading https://files.pythonhosted.org/packages/d8/d9/a22d370aba7cc0b454614f440f38c592b806c1903a451c8665811b4f58ad/botocore-1.20.88-py2.py3-none-any.whl (7.6MB)\n",
            "\u001b[K     |████████████████████████████████| 7.6MB 51.9MB/s \n",
            "\u001b[?25hRequirement already satisfied: typing-extensions in /usr/local/lib/python3.7/dist-packages (from torch==1.8.1->torchaudio) (3.7.4.3)\n",
            "Requirement already satisfied: cffi>=1.0 in /usr/local/lib/python3.7/dist-packages (from soundfile>=0.9.0->librosa) (1.14.5)\n",
            "Requirement already satisfied: setuptools in /usr/local/lib/python3.7/dist-packages (from numba>=0.43.0->librosa) (57.0.0)\n",
            "Requirement already satisfied: llvmlite<0.35,>=0.34.0.dev0 in /usr/local/lib/python3.7/dist-packages (from numba>=0.43.0->librosa) (0.34.0)\n",
            "Requirement already satisfied: requests in /usr/local/lib/python3.7/dist-packages (from pooch>=1.0->librosa) (2.23.0)\n",
            "Requirement already satisfied: packaging in /usr/local/lib/python3.7/dist-packages (from pooch>=1.0->librosa) (20.9)\n",
            "Requirement already satisfied: appdirs in /usr/local/lib/python3.7/dist-packages (from pooch>=1.0->librosa) (1.4.4)\n",
            "Requirement already satisfied: six>=1.3 in /usr/local/lib/python3.7/dist-packages (from resampy>=0.2.2->librosa) (1.15.0)\n",
            "Collecting urllib3<1.27,>=1.25.4\n",
            "\u001b[?25l  Downloading https://files.pythonhosted.org/packages/0c/cd/1e2ec680ec7b09846dc6e605f5a7709dfb9d7128e51a026e7154e18a234e/urllib3-1.26.5-py2.py3-none-any.whl (138kB)\n",
            "\u001b[K     |████████████████████████████████| 143kB 51.9MB/s \n",
            "\u001b[?25hRequirement already satisfied: python-dateutil<3.0.0,>=2.1 in /usr/local/lib/python3.7/dist-packages (from botocore<1.21.0,>=1.20.88->boto3) (2.8.1)\n",
            "Requirement already satisfied: pycparser in /usr/local/lib/python3.7/dist-packages (from cffi>=1.0->soundfile>=0.9.0->librosa) (2.20)\n",
            "Requirement already satisfied: chardet<4,>=3.0.2 in /usr/local/lib/python3.7/dist-packages (from requests->pooch>=1.0->librosa) (3.0.4)\n",
            "Requirement already satisfied: idna<3,>=2.5 in /usr/local/lib/python3.7/dist-packages (from requests->pooch>=1.0->librosa) (2.10)\n",
            "Requirement already satisfied: certifi>=2017.4.17 in /usr/local/lib/python3.7/dist-packages (from requests->pooch>=1.0->librosa) (2020.12.5)\n",
            "Requirement already satisfied: pyparsing>=2.0.2 in /usr/local/lib/python3.7/dist-packages (from packaging->pooch>=1.0->librosa) (2.4.7)\n",
            "\u001b[31mERROR: requests 2.23.0 has requirement urllib3!=1.25.0,!=1.25.1,<1.26,>=1.21.1, but you'll have urllib3 1.26.5 which is incompatible.\u001b[0m\n",
            "\u001b[31mERROR: datascience 0.10.6 has requirement folium==0.2.1, but you'll have folium 0.8.3 which is incompatible.\u001b[0m\n",
            "Installing collected packages: torchaudio, jmespath, urllib3, botocore, s3transfer, boto3\n",
            "  Found existing installation: urllib3 1.24.3\n",
            "    Uninstalling urllib3-1.24.3:\n",
            "      Successfully uninstalled urllib3-1.24.3\n",
            "Successfully installed boto3-1.17.88 botocore-1.20.88 jmespath-0.10.0 s3transfer-0.4.2 torchaudio-0.8.1 urllib3-1.26.5\n"
          ],
          "name": "stdout"
        }
      ]
    },
    {
      "cell_type": "code",
      "metadata": {
        "id": "42lnJwHrAsIF"
      },
      "source": [
        "import pandas as pd"
      ],
      "execution_count": null,
      "outputs": []
    },
    {
      "cell_type": "code",
      "metadata": {
        "id": "MIVmprKj5lo6"
      },
      "source": [
        "from sklearn.metrics import recall_score\n",
        "from sklearn.metrics import precision_score\n",
        "from sklearn.metrics import accuracy_score"
      ],
      "execution_count": null,
      "outputs": []
    },
    {
      "cell_type": "code",
      "metadata": {
        "id": "GN-mzFKWDPBt"
      },
      "source": [
        "import numpy as np\n",
        "import librosa\n",
        "import matplotlib.pyplot as plt\n"
      ],
      "execution_count": null,
      "outputs": []
    },
    {
      "cell_type": "code",
      "metadata": {
        "id": "xqwXjNzvUqWM"
      },
      "source": [
        "import os\n",
        "from pathlib import Path"
      ],
      "execution_count": null,
      "outputs": []
    },
    {
      "cell_type": "code",
      "metadata": {
        "colab": {
          "base_uri": "https://localhost:8080/"
        },
        "id": "-NxeQbNSUnQY",
        "outputId": "f2f2812d-f163-4c3b-c24c-671595b05f31"
      },
      "source": [
        "!gdown https://drive.google.com/uc?id=1iVEgEKm1tS1upClYWih6ikEiwd8mh0Vm"
      ],
      "execution_count": null,
      "outputs": [
        {
          "output_type": "stream",
          "text": [
            "Downloading...\n",
            "From: https://drive.google.com/uc?id=1iVEgEKm1tS1upClYWih6ikEiwd8mh0Vm\n",
            "To: /content/voice_print.zip\n",
            "2.01GB [00:35, 56.5MB/s]\n"
          ],
          "name": "stdout"
        }
      ]
    },
    {
      "cell_type": "code",
      "metadata": {
        "id": "Ft52aPoKe30j"
      },
      "source": [
        "!unzip -q voice_print"
      ],
      "execution_count": null,
      "outputs": []
    },
    {
      "cell_type": "code",
      "metadata": {
        "id": "yNDiUfgg9YY5"
      },
      "source": [
        "data = pd.read_csv(\"/content/voice_print.csv\")"
      ],
      "execution_count": null,
      "outputs": []
    },
    {
      "cell_type": "code",
      "metadata": {
        "colab": {
          "base_uri": "https://localhost:8080/"
        },
        "id": "clvGqGO9x-SZ",
        "outputId": "533aaace-22d1-4eeb-f1e0-fbf968549537"
      },
      "source": [
        "data.count()"
      ],
      "execution_count": null,
      "outputs": [
        {
          "output_type": "execute_result",
          "data": {
            "text/plain": [
              "label          26941\n",
              "mode           26941\n",
              "name           26941\n",
              "sample_rate    26941\n",
              "voiceprint     26941\n",
              "dtype: int64"
            ]
          },
          "metadata": {
            "tags": []
          },
          "execution_count": 12
        }
      ]
    },
    {
      "cell_type": "code",
      "metadata": {
        "id": "yG-Qf2qQ-AyR"
      },
      "source": [
        "data_test = data.loc[data['mode'] == 'test']"
      ],
      "execution_count": null,
      "outputs": []
    },
    {
      "cell_type": "code",
      "metadata": {
        "id": "95vGPSaYAcyp"
      },
      "source": [
        "X_test, y_test = data_test.voiceprint, data_test.label"
      ],
      "execution_count": null,
      "outputs": []
    },
    {
      "cell_type": "code",
      "metadata": {
        "id": "MIIXv2TVB3Hx"
      },
      "source": [
        "data_train = data.loc[data['mode'] == 'train']"
      ],
      "execution_count": null,
      "outputs": []
    },
    {
      "cell_type": "code",
      "metadata": {
        "id": "P6Pajf4RU-8c"
      },
      "source": [
        "data_valid = data.loc[data['mode'] == 'valid']"
      ],
      "execution_count": null,
      "outputs": []
    },
    {
      "cell_type": "code",
      "metadata": {
        "id": "aapxyiZCVniz"
      },
      "source": [
        "X_valid, y_valid = data_valid.voiceprint, data_valid.label"
      ],
      "execution_count": null,
      "outputs": []
    },
    {
      "cell_type": "code",
      "metadata": {
        "id": "YSUs6Q9jB8VX"
      },
      "source": [
        "X_train, y_train = data_train.voiceprint, data_train.label"
      ],
      "execution_count": null,
      "outputs": []
    },
    {
      "cell_type": "code",
      "metadata": {
        "id": "wUDjeqvEeMfZ"
      },
      "source": [
        "def get_mfcc(amplitudes, labels):\n",
        "  X = []\n",
        "  y = []\n",
        "  for amp in amplitudes:\n",
        "    amp = torch.from_numpy(np.array(amp[1:-1].split(\",\"), dtype=np.float32)).view(1, 8000)\n",
        "    lowpass = [\n",
        "            ['gain', '-n'],\n",
        "      [\"overdrive\",  \"10\"] # apply single-pole lowpass filter\n",
        "                        # This only changes sample rate, so it is necessary to\n",
        "                        # add `rate` effect with original sample rate after this.\n",
        "    ]\n",
        "    # highpass = [\n",
        "    #   [\"highpass\", \"-1\", \"4000\"]# apply single-pole lowpass filter\n",
        "    #                     # This only changes sample rate, so it is necessary to\n",
        "    #                     # add `rate` effect with original sample rate after this.\n",
        "    # ]\n",
        "\n",
        "    # waveform, sample_rate = torchaudio.sox_effects.apply_effects_tensor(\n",
        "    #     amp, 8000, lowpass)\n",
        "    #mfcc = torchaudio.transforms.MFCC(8000, 40, log_mels=True, melkwargs={'n_fft' : 512, 'n_mels':40, 'win_length' : 200, 'hop_length' :80, 'f_min': 70.0, 'f_max': 4000.0})(waveform)\n",
        "    # X.append(mfcc)\n",
        "    mfcc = torchaudio.transforms.MFCC(8000, 120, log_mels=True, melkwargs={'n_fft' : 512, 'n_mels':120, 'win_length' : 200, 'hop_length' :80, 'f_min': 70.0, 'f_max': 4000.0})(amp)\n",
        "    # deltas = torchaudio.transforms.ComputeDeltas(50)(mfcc)\n",
        "    X.append(mfcc)\n",
        "\n",
        "  for label in labels:\n",
        "    y.append(label)\n",
        "    # y.append(label)\n",
        "  return X, y"
      ],
      "execution_count": null,
      "outputs": []
    },
    {
      "cell_type": "code",
      "metadata": {
        "id": "8IeE3zT8B7W-"
      },
      "source": [
        "X_train_mfcc, y_train_mfcc  = get_mfcc(X_train, y_train)\n",
        "X_valid_mfcc, y_valid_mfcc = get_mfcc(X_valid, y_valid)"
      ],
      "execution_count": null,
      "outputs": []
    },
    {
      "cell_type": "code",
      "metadata": {
        "id": "8gRmY8xiB8Dp"
      },
      "source": [
        "X_train_mfcc = torch.cat(X_train_mfcc)\n",
        "X_valid_mfcc = torch.cat(X_valid_mfcc)"
      ],
      "execution_count": null,
      "outputs": []
    },
    {
      "cell_type": "code",
      "metadata": {
        "id": "FKRAGEYCBXo8"
      },
      "source": [
        "y_train_mfcc = torch.LongTensor(y_train_mfcc)\n",
        "y_valid_mfcc = torch.LongTensor(y_valid_mfcc)"
      ],
      "execution_count": null,
      "outputs": []
    },
    {
      "cell_type": "code",
      "metadata": {
        "id": "X-H3beFBMB5B"
      },
      "source": [
        "def generate_batches(X, y, batch_size=64):\n",
        "    assert len(X) == len(y)\n",
        "    np.random.seed(42)\n",
        "    perm = np.random.permutation(len(X))\n",
        "    for start in range(0, (len(X)//batch_size)*batch_size, batch_size):\n",
        "      end = min(start + batch_size, len(X))\n",
        "      batch_idx = perm[start:end]\n",
        "      yield X[batch_idx], y[batch_idx]"
      ],
      "execution_count": null,
      "outputs": []
    },
    {
      "cell_type": "markdown",
      "metadata": {
        "id": "l4rBuELgRamI"
      },
      "source": [
        "# CNN"
      ]
    },
    {
      "cell_type": "code",
      "metadata": {
        "id": "rHGlmXgrRdZk"
      },
      "source": [
        "import torch\n",
        "import torch.nn as nn\n",
        "import torch.nn.functional as F\n",
        "from tqdm import tqdm, tqdm_notebook"
      ],
      "execution_count": null,
      "outputs": []
    },
    {
      "cell_type": "code",
      "metadata": {
        "id": "IsZNuBZKUXFb"
      },
      "source": [
        "class VoiceCnn(nn.Module):\n",
        "  #  [128, 1, 80], expected input[256, 128, 150]\n",
        "    def __init__(self, n_classes):\n",
        "          super().__init__()\n",
        "          self.conv1 = nn.Conv1d(120, 64, 2, 2)\n",
        "          self.bn1 = nn.BatchNorm1d(64)\n",
        "          self.conv2 = nn.Conv1d(64, 128, 1)\n",
        "          self.bn2 = nn.BatchNorm1d(128)\n",
        "          self.pool1 = nn.MaxPool1d(2, 2)\n",
        "\n",
        "\n",
        "          self.conv3 = nn.Conv1d(128, 256, 1)\n",
        "          self.bn3 = nn.BatchNorm1d(256)\n",
        "          self.conv4 = nn.Conv1d(256, 512, 1)\n",
        "          self.bn4 = nn.BatchNorm1d(512)\n",
        "          self.pool2 = nn.MaxPool1d(2, 2)\n",
        "          self.dropout4 = nn.Dropout(p=0.2)\n",
        "\n",
        "          self.conv5 = nn.Conv1d(512, 512, 1)\n",
        "          self.bn5 = nn.BatchNorm1d(512)\n",
        "          self.conv6 = nn.Conv1d(512, 768, 1)\n",
        "          self.bn6 = nn.BatchNorm1d(768)\n",
        "          self.pool3 = nn.MaxPool1d(2, 2)\n",
        "\n",
        "\n",
        "          self.conv7 = nn.Conv1d(768, 1024, 1)\n",
        "          self.bn7 = nn.BatchNorm1d(1024)\n",
        "          self.conv8 = nn.Conv1d(1024, 768, 1)\n",
        "          self.bn8 = nn.BatchNorm1d(768)\n",
        "          self.pool4 = nn.MaxPool1d(2, 2)\n",
        "          self.dropout5 = nn.Dropout(p=0.2)\n",
        "\n",
        "          self.conv9 = nn.Conv1d(768, 1024, 1)\n",
        "          self.bn9 = nn.BatchNorm1d(1024)\n",
        "          self.conv10 = nn.Conv1d(1024, 1536, 1)\n",
        "          self.bn10 = nn.BatchNorm1d(1536)\n",
        "\n",
        "          self.conv11 = nn.Conv1d(1536, 2048, 1)\n",
        "          self.bn11 = nn.BatchNorm1d(2048)\n",
        "          self.pool7 = nn.AvgPool1d(2,  2)\n",
        "\n",
        "          self.fc1 = nn.Linear(2048, 4096)\n",
        "          self.dropout1 = nn.Dropout(p=0.2)\n",
        "          self.fc2 = nn.Linear(4096, 8192)\n",
        "          self.dropout2 = nn.Dropout(p=0.2)\n",
        "          self.fc3 = nn.Linear(8192, n_classes*10 )\n",
        "          self.dropout3 = nn.Dropout(p=0.2)\n",
        "          self.out = nn.Linear(n_classes*10, n_classes)\n",
        "          \n",
        "    def forward(self, x):\n",
        "        x = self.conv1(x)\n",
        "        x = F.leaky_relu(self.bn1(x))\n",
        "        x = self.conv2(x)\n",
        "        x = F.leaky_relu(self.bn2(x))\n",
        "        x = self.pool1(x)\n",
        "\n",
        "        x = self.conv3(x)\n",
        "        x = F.leaky_relu(self.bn3(x))\n",
        "        x = self.conv4(x)\n",
        "        x = F.leaky_relu(self.bn4(x))\n",
        "        x = self.pool2(x)\n",
        "        x = self.dropout4(x)\n",
        "\n",
        "        x = self.conv5(x)\n",
        "        x = F.leaky_relu(self.bn5(x))\n",
        "        x = self.conv6(x)\n",
        "        x = F.leaky_relu(self.bn6(x))\n",
        "        x = self.pool3(x)\n",
        "\n",
        "        x = self.conv7(x)\n",
        "        x = F.leaky_relu(self.bn7(x))\n",
        "        x = self.conv8(x)\n",
        "        x = F.leaky_relu(self.bn8(x))\n",
        "        x = self.pool4(x)\n",
        "        x = self.dropout5(x)\n",
        "\n",
        "        x = self.conv9(x)\n",
        "        x = F.leaky_relu(self.bn9(x))\n",
        "        x = self.conv10(x)\n",
        "        x = F.leaky_relu(self.bn10(x))      \n",
        "        x = self.conv11(x)\n",
        "        x = F.leaky_relu(self.bn11(x))\n",
        "        x = self.pool7(x)\n",
        "        x = x.view(x.size(0), -1)\n",
        "\n",
        "        x = self.fc1(x)\n",
        "        x = self.dropout1(x)\n",
        "        x = self.fc2(x)\n",
        "        x = self.dropout2(x)\n",
        "        x = self.fc3(x)\n",
        "        x = self.dropout3(x)\n",
        "        logits = self.out(x)\n",
        "        return logits\n",
        "\n"
      ],
      "execution_count": null,
      "outputs": []
    },
    {
      "cell_type": "code",
      "metadata": {
        "id": "WYjw7Uv7p9zf",
        "colab": {
          "base_uri": "https://localhost:8080/"
        },
        "outputId": "d7100a37-8456-4d2f-86ae-a001dac7b999"
      },
      "source": [
        "print(VoiceCnn(206))"
      ],
      "execution_count": null,
      "outputs": [
        {
          "output_type": "stream",
          "text": [
            "VoiceCnn(\n",
            "  (conv1): Conv1d(128, 64, kernel_size=(4,), stride=(2,))\n",
            "  (bn1): BatchNorm1d(64, eps=1e-05, momentum=0.1, affine=True, track_running_stats=True)\n",
            "  (conv2): Conv1d(64, 128, kernel_size=(1,), stride=(1,))\n",
            "  (bn2): BatchNorm1d(128, eps=1e-05, momentum=0.1, affine=True, track_running_stats=True)\n",
            "  (conv3): Conv1d(128, 256, kernel_size=(1,), stride=(1,))\n",
            "  (bn3): BatchNorm1d(256, eps=1e-05, momentum=0.1, affine=True, track_running_stats=True)\n",
            "  (conv4): Conv1d(256, 128, kernel_size=(1,), stride=(1,))\n",
            "  (bn4): BatchNorm1d(256, eps=1e-05, momentum=0.1, affine=True, track_running_stats=True)\n",
            "  (pool2): MaxPool1d(kernel_size=4, stride=2, padding=0, dilation=1, ceil_mode=False)\n",
            "  (conv5): Conv1d(256, 512, kernel_size=(1,), stride=(1,))\n",
            "  (bn5): BatchNorm1d(512, eps=1e-05, momentum=0.1, affine=True, track_running_stats=True)\n",
            "  (conv6): Conv1d(512, 768, kernel_size=(1,), stride=(1,))\n",
            "  (bn6): BatchNorm1d(768, eps=1e-05, momentum=0.1, affine=True, track_running_stats=True)\n",
            "  (conv7): Conv1d(768, 1024, kernel_size=(1,), stride=(1,))\n",
            "  (bn7): BatchNorm1d(1024, eps=1e-05, momentum=0.1, affine=True, track_running_stats=True)\n",
            "  (conv8): Conv1d(1024, 768, kernel_size=(1,), stride=(1,))\n",
            "  (bn8): BatchNorm1d(768, eps=1e-05, momentum=0.1, affine=True, track_running_stats=True)\n",
            "  (pool4): MaxPool1d(kernel_size=4, stride=2, padding=0, dilation=1, ceil_mode=False)\n",
            "  (conv9): Conv1d(768, 1024, kernel_size=(1,), stride=(1,))\n",
            "  (bn9): BatchNorm1d(1024, eps=1e-05, momentum=0.1, affine=True, track_running_stats=True)\n",
            "  (conv10): Conv1d(1024, 1536, kernel_size=(1,), stride=(1,))\n",
            "  (bn10): BatchNorm1d(1536, eps=1e-05, momentum=0.1, affine=True, track_running_stats=True)\n",
            "  (pool6): MaxPool1d(kernel_size=4, stride=2, padding=0, dilation=1, ceil_mode=False)\n",
            "  (conv11): Conv1d(1536, 2048, kernel_size=(1,), stride=(1,))\n",
            "  (bn11): BatchNorm1d(2048, eps=1e-05, momentum=0.1, affine=True, track_running_stats=True)\n",
            "  (pool7): AvgPool1d(kernel_size=(4,), stride=(2,), padding=(0,))\n",
            "  (fc1): Linear(in_features=2048, out_features=4096, bias=True)\n",
            "  (dropout1): Dropout(p=0.2, inplace=False)\n",
            "  (fc2): Linear(in_features=4096, out_features=8192, bias=True)\n",
            "  (dropout2): Dropout(p=0.2, inplace=False)\n",
            "  (fc3): Linear(in_features=8192, out_features=1030, bias=True)\n",
            "  (dropout3): Dropout(p=0.2, inplace=False)\n",
            "  (out): Linear(in_features=1030, out_features=206, bias=True)\n",
            ")\n"
          ],
          "name": "stdout"
        }
      ]
    },
    {
      "cell_type": "code",
      "metadata": {
        "id": "F6TSfkCcUZ0L"
      },
      "source": [
        "def fit_epoch(model, X_train, y_train,  criterion, optimizer):\n",
        "    running_loss = 0.0\n",
        "    running_corrects = 0\n",
        "    processed_data = 0\n",
        "    for inputs, labels in generate_batches(X_train, y_train):\n",
        "        inputs = inputs.to(device)\n",
        "        labels = labels.to(device)\n",
        "        # inputs = torch.from_numpy(inputs).to(device, dtype=torch.float)\n",
        "        # labels = torch.from_numpy(labels).to(device)\n",
        "        optimizer.zero_grad()\n",
        "        outputs = model(inputs)\n",
        "        loss = criterion(outputs, labels)\n",
        "        loss.backward()\n",
        "        optimizer.step()\n",
        "        preds = torch.argmax(outputs, 1)\n",
        "        running_loss += loss.item() * inputs.size(0)\n",
        "        running_corrects += torch.sum(preds == labels.data)\n",
        "        processed_data += inputs.size(0)\n",
        "              \n",
        "    train_loss = running_loss / processed_data\n",
        "    train_acc = running_corrects.cpu().numpy() / processed_data\n",
        "    return train_loss, train_acc"
      ],
      "execution_count": null,
      "outputs": []
    },
    {
      "cell_type": "code",
      "metadata": {
        "id": "iYKCE_1bWWeE"
      },
      "source": [
        "def eval_epoch(model, X_valid, y_valid, criterion):\n",
        "    model.eval()\n",
        "    running_loss = 0.0\n",
        "    running_corrects = 0\n",
        "    processed_size = 0\n",
        "\n",
        "    for inputs, labels in generate_batches(X_valid, y_valid):\n",
        "        inputs = inputs.to(device)\n",
        "        labels = labels.to(device)\n",
        "        # inputs = torch.from_numpy(inputs).to(device, dtype=torch.float)\n",
        "        # labels = torch.from_numpy(labels).to(device)\n",
        "\n",
        "        with torch.set_grad_enabled(False):\n",
        "            outputs = model(inputs)\n",
        "            loss = criterion(outputs, labels)\n",
        "            preds = torch.argmax(outputs, 1)\n",
        "\n",
        "        running_loss += loss.item() * inputs.size(0)\n",
        "        running_corrects += torch.sum(preds == labels.data)\n",
        "        processed_size += inputs.size(0)\n",
        "    val_loss = running_loss / processed_size\n",
        "    val_acc = running_corrects.double() / processed_size\n",
        "    return val_loss, val_acc"
      ],
      "execution_count": null,
      "outputs": []
    },
    {
      "cell_type": "code",
      "metadata": {
        "id": "iWE4U9C5XNtF"
      },
      "source": [
        "def train(X_train, y_train, X_valid, y_valid, model, epochs):\n",
        "\n",
        "    history = []\n",
        "    log_template = \"\\nEpoch {ep:03d} train_loss: {t_loss:0.4f} \\\n",
        "    val_loss {v_loss:0.4f} train_acc {t_acc:0.4f} val_acc {v_acc:0.4f}\"\n",
        "\n",
        "    with tqdm(desc=\"epoch\", total=epochs) as pbar_outer:\n",
        "        opt = torch.optim.Adam(model.parameters())\n",
        "        #opt = torch.optim.SGD(model.parameters(), lr=0.0001, momentum=0.8, nesterov=True)\n",
        "        criterion = nn.CrossEntropyLoss()\n",
        "\n",
        "        for epoch in range(epochs):\n",
        "            train_loss, train_acc = fit_epoch(model, X_train, y_train, criterion, opt)\n",
        "            print(\"loss\", train_loss)\n",
        "            \n",
        "            val_loss, val_acc = eval_epoch(model, X_valid, y_valid, criterion)\n",
        "            history.append((train_loss, train_acc, val_loss, val_acc))\n",
        "            \n",
        "            pbar_outer.update(1)\n",
        "            tqdm.write(log_template.format(ep=epoch+1, t_loss=train_loss,\\\n",
        "                                           v_loss=val_loss, t_acc=train_acc, v_acc=val_acc))\n",
        "            \n",
        "    return history"
      ],
      "execution_count": null,
      "outputs": []
    },
    {
      "cell_type": "code",
      "metadata": {
        "colab": {
          "base_uri": "https://localhost:8080/"
        },
        "id": "vjQqywLib0B6",
        "outputId": "695238d4-cc0d-4620-de64-43c01e4684e2"
      },
      "source": [
        "device = torch.device(\"cuda\" if torch.cuda.is_available() else \"cpu\")\n",
        "print(device)\n",
        "n_classes = len(np.unique(y_train))\n",
        "voice_cnn = VoiceCnn(n_classes).to(device)\n",
        "history = train(X_train_mfcc, y_train_mfcc, X_valid_mfcc, y_valid_mfcc, model=voice_cnn, epochs=30)"
      ],
      "execution_count": null,
      "outputs": [
        {
          "output_type": "stream",
          "text": [
            "cuda\n"
          ],
          "name": "stdout"
        },
        {
          "output_type": "stream",
          "text": [
            "\repoch:   0%|          | 0/30 [00:00<?, ?it/s]"
          ],
          "name": "stderr"
        },
        {
          "output_type": "stream",
          "text": [
            "loss 10.146657267812849\n"
          ],
          "name": "stdout"
        },
        {
          "output_type": "stream",
          "text": [
            "epoch:   3%|▎         | 1/30 [00:26<12:55, 26.72s/it]"
          ],
          "name": "stderr"
        },
        {
          "output_type": "stream",
          "text": [
            "\n",
            "Epoch 001 train_loss: 10.1467     val_loss 4.8989 train_acc 0.1653 val_acc 0.2321\n",
            "loss 3.5496531327565513\n"
          ],
          "name": "stdout"
        },
        {
          "output_type": "stream",
          "text": [
            "epoch:   7%|▋         | 2/30 [00:54<12:35, 26.99s/it]"
          ],
          "name": "stderr"
        },
        {
          "output_type": "stream",
          "text": [
            "\n",
            "Epoch 002 train_loss: 3.5497     val_loss 3.1654 train_acc 0.2903 val_acc 0.3237\n",
            "loss 2.9059713280240302\n"
          ],
          "name": "stdout"
        },
        {
          "output_type": "stream",
          "text": [
            "epoch:  10%|█         | 3/30 [01:21<12:13, 27.16s/it]"
          ],
          "name": "stderr"
        },
        {
          "output_type": "stream",
          "text": [
            "\n",
            "Epoch 003 train_loss: 2.9060     val_loss 2.7358 train_acc 0.3570 val_acc 0.3617\n",
            "loss 2.5409904836428048\n"
          ],
          "name": "stdout"
        },
        {
          "output_type": "stream",
          "text": [
            "epoch:  13%|█▎        | 4/30 [01:49<11:49, 27.31s/it]"
          ],
          "name": "stderr"
        },
        {
          "output_type": "stream",
          "text": [
            "\n",
            "Epoch 004 train_loss: 2.5410     val_loss 2.3791 train_acc 0.4050 val_acc 0.4279\n",
            "loss 2.289174671613737\n"
          ],
          "name": "stdout"
        },
        {
          "output_type": "stream",
          "text": [
            "epoch:  17%|█▋        | 5/30 [02:17<11:24, 27.39s/it]"
          ],
          "name": "stderr"
        },
        {
          "output_type": "stream",
          "text": [
            "\n",
            "Epoch 005 train_loss: 2.2892     val_loss 2.2085 train_acc 0.4468 val_acc 0.4582\n",
            "loss 2.039161216701218\n"
          ],
          "name": "stdout"
        },
        {
          "output_type": "stream",
          "text": [
            "epoch:  20%|██        | 6/30 [02:44<10:59, 27.46s/it]"
          ],
          "name": "stderr"
        },
        {
          "output_type": "stream",
          "text": [
            "\n",
            "Epoch 006 train_loss: 2.0392     val_loss 1.9352 train_acc 0.4865 val_acc 0.5080\n",
            "loss 1.8780876878071147\n"
          ],
          "name": "stdout"
        },
        {
          "output_type": "stream",
          "text": [
            "epoch:  23%|██▎       | 7/30 [03:12<10:32, 27.49s/it]"
          ],
          "name": "stderr"
        },
        {
          "output_type": "stream",
          "text": [
            "\n",
            "Epoch 007 train_loss: 1.8781     val_loss 1.7591 train_acc 0.5219 val_acc 0.5479\n",
            "loss 1.6932479937871296\n"
          ],
          "name": "stdout"
        },
        {
          "output_type": "stream",
          "text": [
            "epoch:  27%|██▋       | 8/30 [03:39<10:05, 27.53s/it]"
          ],
          "name": "stderr"
        },
        {
          "output_type": "stream",
          "text": [
            "\n",
            "Epoch 008 train_loss: 1.6932     val_loss 1.5576 train_acc 0.5567 val_acc 0.5846\n",
            "loss 1.6211000700594962\n"
          ],
          "name": "stdout"
        },
        {
          "output_type": "stream",
          "text": [
            "epoch:  30%|███       | 9/30 [04:07<09:38, 27.55s/it]"
          ],
          "name": "stderr"
        },
        {
          "output_type": "stream",
          "text": [
            "\n",
            "Epoch 009 train_loss: 1.6211     val_loss 1.7082 train_acc 0.5749 val_acc 0.5503\n",
            "loss 1.489027488939833\n"
          ],
          "name": "stdout"
        },
        {
          "output_type": "stream",
          "text": [
            "epoch:  33%|███▎      | 10/30 [04:35<09:11, 27.57s/it]"
          ],
          "name": "stderr"
        },
        {
          "output_type": "stream",
          "text": [
            "\n",
            "Epoch 010 train_loss: 1.4890     val_loss 1.6791 train_acc 0.5995 val_acc 0.5615\n",
            "loss 1.4094107186440195\n"
          ],
          "name": "stdout"
        },
        {
          "output_type": "stream",
          "text": [
            "epoch:  37%|███▋      | 11/30 [05:02<08:43, 27.57s/it]"
          ],
          "name": "stderr"
        },
        {
          "output_type": "stream",
          "text": [
            "\n",
            "Epoch 011 train_loss: 1.4094     val_loss 1.7145 train_acc 0.6174 val_acc 0.5653\n",
            "loss 1.3886213339988154\n"
          ],
          "name": "stdout"
        },
        {
          "output_type": "stream",
          "text": [
            "epoch:  40%|████      | 12/30 [05:30<08:16, 27.59s/it]"
          ],
          "name": "stderr"
        },
        {
          "output_type": "stream",
          "text": [
            "\n",
            "Epoch 012 train_loss: 1.3886     val_loss 1.3610 train_acc 0.6225 val_acc 0.6309\n",
            "loss 1.2653870964207665\n"
          ],
          "name": "stdout"
        },
        {
          "output_type": "stream",
          "text": [
            "epoch:  43%|████▎     | 13/30 [05:57<07:48, 27.59s/it]"
          ],
          "name": "stderr"
        },
        {
          "output_type": "stream",
          "text": [
            "\n",
            "Epoch 013 train_loss: 1.2654     val_loss 1.4460 train_acc 0.6510 val_acc 0.6157\n",
            "loss 1.2133028078393968\n"
          ],
          "name": "stdout"
        },
        {
          "output_type": "stream",
          "text": [
            "epoch:  47%|████▋     | 14/30 [06:25<07:21, 27.60s/it]"
          ],
          "name": "stderr"
        },
        {
          "output_type": "stream",
          "text": [
            "\n",
            "Epoch 014 train_loss: 1.2133     val_loss 1.3474 train_acc 0.6661 val_acc 0.6432\n",
            "loss 1.1461158609232887\n"
          ],
          "name": "stdout"
        },
        {
          "output_type": "stream",
          "text": [
            "epoch:  50%|█████     | 15/30 [06:53<06:53, 27.59s/it]"
          ],
          "name": "stderr"
        },
        {
          "output_type": "stream",
          "text": [
            "\n",
            "Epoch 015 train_loss: 1.1461     val_loss 1.3026 train_acc 0.6858 val_acc 0.6590\n",
            "loss 1.0693202679700191\n"
          ],
          "name": "stdout"
        },
        {
          "output_type": "stream",
          "text": [
            "epoch:  53%|█████▎    | 16/30 [07:20<06:26, 27.61s/it]"
          ],
          "name": "stderr"
        },
        {
          "output_type": "stream",
          "text": [
            "\n",
            "Epoch 016 train_loss: 1.0693     val_loss 1.3338 train_acc 0.6989 val_acc 0.6475\n",
            "loss 1.0709161048281703\n"
          ],
          "name": "stdout"
        },
        {
          "output_type": "stream",
          "text": [
            "epoch:  57%|█████▋    | 17/30 [07:48<05:58, 27.60s/it]"
          ],
          "name": "stderr"
        },
        {
          "output_type": "stream",
          "text": [
            "\n",
            "Epoch 017 train_loss: 1.0709     val_loss 1.4234 train_acc 0.7029 val_acc 0.6483\n",
            "loss 1.0308325125439333\n"
          ],
          "name": "stdout"
        },
        {
          "output_type": "stream",
          "text": [
            "epoch:  60%|██████    | 18/30 [08:16<05:31, 27.62s/it]"
          ],
          "name": "stderr"
        },
        {
          "output_type": "stream",
          "text": [
            "\n",
            "Epoch 018 train_loss: 1.0308     val_loss 1.3767 train_acc 0.7152 val_acc 0.6483\n",
            "loss 1.0191101831178067\n"
          ],
          "name": "stdout"
        },
        {
          "output_type": "stream",
          "text": [
            "epoch:  63%|██████▎   | 19/30 [08:43<05:03, 27.61s/it]"
          ],
          "name": "stderr"
        },
        {
          "output_type": "stream",
          "text": [
            "\n",
            "Epoch 019 train_loss: 1.0191     val_loss 1.3103 train_acc 0.7145 val_acc 0.6582\n",
            "loss 0.9391117867070062\n"
          ],
          "name": "stdout"
        },
        {
          "output_type": "stream",
          "text": [
            "epoch:  67%|██████▋   | 20/30 [09:11<04:36, 27.61s/it]"
          ],
          "name": "stderr"
        },
        {
          "output_type": "stream",
          "text": [
            "\n",
            "Epoch 020 train_loss: 0.9391     val_loss 1.1939 train_acc 0.7352 val_acc 0.6971\n",
            "loss 0.9001000194069576\n"
          ],
          "name": "stdout"
        },
        {
          "output_type": "stream",
          "text": [
            "epoch:  70%|███████   | 21/30 [09:38<04:08, 27.60s/it]"
          ],
          "name": "stderr"
        },
        {
          "output_type": "stream",
          "text": [
            "\n",
            "Epoch 021 train_loss: 0.9001     val_loss 1.2374 train_acc 0.7463 val_acc 0.6919\n",
            "loss 0.8241177536670131\n"
          ],
          "name": "stdout"
        },
        {
          "output_type": "stream",
          "text": [
            "epoch:  73%|███████▎  | 22/30 [10:06<03:40, 27.61s/it]"
          ],
          "name": "stderr"
        },
        {
          "output_type": "stream",
          "text": [
            "\n",
            "Epoch 022 train_loss: 0.8241     val_loss 1.3017 train_acc 0.7672 val_acc 0.6751\n",
            "loss 0.7952396505736675\n"
          ],
          "name": "stdout"
        },
        {
          "output_type": "stream",
          "text": [
            "epoch:  77%|███████▋  | 23/30 [10:34<03:13, 27.60s/it]"
          ],
          "name": "stderr"
        },
        {
          "output_type": "stream",
          "text": [
            "\n",
            "Epoch 023 train_loss: 0.7952     val_loss 1.2933 train_acc 0.7729 val_acc 0.6987\n",
            "loss 0.7845404310391682\n"
          ],
          "name": "stdout"
        },
        {
          "output_type": "stream",
          "text": [
            "epoch:  80%|████████  | 24/30 [11:01<02:45, 27.60s/it]"
          ],
          "name": "stderr"
        },
        {
          "output_type": "stream",
          "text": [
            "\n",
            "Epoch 024 train_loss: 0.7845     val_loss 1.1643 train_acc 0.7782 val_acc 0.7131\n",
            "loss 0.7830183482406163\n"
          ],
          "name": "stdout"
        },
        {
          "output_type": "stream",
          "text": [
            "epoch:  83%|████████▎ | 25/30 [11:29<02:18, 27.60s/it]"
          ],
          "name": "stderr"
        },
        {
          "output_type": "stream",
          "text": [
            "\n",
            "Epoch 025 train_loss: 0.7830     val_loss 1.1271 train_acc 0.7809 val_acc 0.7264\n",
            "loss 0.720227716877909\n"
          ],
          "name": "stdout"
        },
        {
          "output_type": "stream",
          "text": [
            "epoch:  87%|████████▋ | 26/30 [11:56<01:50, 27.61s/it]"
          ],
          "name": "stderr"
        },
        {
          "output_type": "stream",
          "text": [
            "\n",
            "Epoch 026 train_loss: 0.7202     val_loss 1.1051 train_acc 0.7959 val_acc 0.7305\n",
            "loss 0.783659022830107\n"
          ],
          "name": "stdout"
        },
        {
          "output_type": "stream",
          "text": [
            "epoch:  90%|█████████ | 27/30 [12:24<01:22, 27.60s/it]"
          ],
          "name": "stderr"
        },
        {
          "output_type": "stream",
          "text": [
            "\n",
            "Epoch 027 train_loss: 0.7837     val_loss 1.2733 train_acc 0.7842 val_acc 0.7026\n",
            "loss 0.7250278993408279\n"
          ],
          "name": "stdout"
        },
        {
          "output_type": "stream",
          "text": [
            "epoch:  93%|█████████▎| 28/30 [12:52<00:55, 27.60s/it]"
          ],
          "name": "stderr"
        },
        {
          "output_type": "stream",
          "text": [
            "\n",
            "Epoch 028 train_loss: 0.7250     val_loss 1.2258 train_acc 0.7971 val_acc 0.7100\n",
            "loss 0.7082065139273213\n"
          ],
          "name": "stdout"
        },
        {
          "output_type": "stream",
          "text": [
            "epoch:  97%|█████████▋| 29/30 [13:19<00:27, 27.58s/it]"
          ],
          "name": "stderr"
        },
        {
          "output_type": "stream",
          "text": [
            "\n",
            "Epoch 029 train_loss: 0.7082     val_loss 1.2433 train_acc 0.8032 val_acc 0.7142\n",
            "loss 0.6277074222714201\n"
          ],
          "name": "stdout"
        },
        {
          "output_type": "stream",
          "text": [
            "epoch: 100%|██████████| 30/30 [13:47<00:00, 27.57s/it]"
          ],
          "name": "stderr"
        },
        {
          "output_type": "stream",
          "text": [
            "\n",
            "Epoch 030 train_loss: 0.6277     val_loss 1.3651 train_acc 0.8242 val_acc 0.7028\n"
          ],
          "name": "stdout"
        },
        {
          "output_type": "stream",
          "text": [
            "\n"
          ],
          "name": "stderr"
        }
      ]
    },
    {
      "cell_type": "code",
      "metadata": {
        "colab": {
          "base_uri": "https://localhost:8080/",
          "height": 551
        },
        "id": "9T8Zx8k789B2",
        "outputId": "83b1adf0-af77-495d-88c1-588b29b3d32b"
      },
      "source": [
        "import matplotlib.pyplot as plt\n",
        "loss, acc, val_loss, val_acc = zip(*history)\n",
        "plt.figure(figsize=(15,9))\n",
        "plt.plot(loss, label=\"train_loss\")\n",
        "plt.plot(val_loss, label=\"val_loss\")\n",
        "plt.legend(loc='best')\n",
        "plt.xlabel(\"epochs\")\n",
        "plt.ylabel(\"loss\")\n",
        "plt.show()"
      ],
      "execution_count": null,
      "outputs": [
        {
          "output_type": "display_data",
          "data": {
            "image/png": "[encoded data removed]",
            "text/plain": [
              "<Figure size 1080x648 with 1 Axes>"
            ]
          },
          "metadata": {
            "tags": [],
            "needs_background": "light"
          }
        }
      ]
    },
    {
      "cell_type": "code",
      "metadata": {
        "id": "mzm0zX5XyTks"
      },
      "source": [
        "X_test_mfcc, y_test_mfcc = get_mfcc(X_test, y_test)\n",
        "X_test_mfcc = torch.cat(X_test_mfcc).unsqueeze(1) \n",
        "y_test_mfcc = torch.LongTensor(y_test_mfcc)"
      ],
      "execution_count": null,
      "outputs": []
    },
    {
      "cell_type": "code",
      "metadata": {
        "id": "Wnfx88o-yOHc"
      },
      "source": [
        "def predict(model, X_test, y_test):\n",
        "    with torch.no_grad():\n",
        "        correct = 0\n",
        "        total = 0 \n",
        "        expect= []\n",
        "        preds =[]\n",
        "        for inputs, labels in zip(X_test, y_test):\n",
        "            inputs = inputs.to(device, dtype=torch.float)\n",
        "            model.eval()\n",
        "            output = model(inputs.unsqueeze(0)).cpu()\n",
        "            output = torch.exp(output)\n",
        "            prob = torch.max(output.data, 1)[0].numpy()[0]\n",
        "            prediction = int(torch.max(output.data, 1)[1].numpy())\n",
        "            preds.append(prediction)\n",
        "            expect.append(labels)\n",
        "    return preds, expect"
      ],
      "execution_count": null,
      "outputs": []
    },
    {
      "cell_type": "code",
      "metadata": {
        "id": "RRp5LHCWyh5E",
        "colab": {
          "base_uri": "https://localhost:8080/"
        },
        "outputId": "88f61c05-8b40-4a03-b69b-8aac02356154"
      },
      "source": [
        "p, e = predict(voice_cnn, X_test_mfcc, y_test_mfcc) \n",
        "accuracy_score(e, p)"
      ],
      "execution_count": null,
      "outputs": [
        {
          "output_type": "execute_result",
          "data": {
            "text/plain": [
              "0.8778901734104047"
            ]
          },
          "metadata": {
            "tags": []
          },
          "execution_count": 32
        }
      ]
    },
    {
      "cell_type": "code",
      "metadata": {
        "colab": {
          "base_uri": "https://localhost:8080/"
        },
        "id": "hgbZF3pfl-Pq",
        "outputId": "a95af857-615a-4c63-9f77-e264f965dd82"
      },
      "source": [
        "p[-20:-1]"
      ],
      "execution_count": null,
      "outputs": [
        {
          "output_type": "execute_result",
          "data": {
            "text/plain": [
              "[202,\n",
              " 201,\n",
              " 1,\n",
              " 202,\n",
              " 202,\n",
              " 203,\n",
              " 115,\n",
              " 203,\n",
              " 203,\n",
              " 204,\n",
              " 204,\n",
              " 204,\n",
              " 204,\n",
              " 205,\n",
              " 205,\n",
              " 205,\n",
              " 4,\n",
              " 189,\n",
              " 205]"
            ]
          },
          "metadata": {
            "tags": []
          },
          "execution_count": 33
        }
      ]
    },
    {
      "cell_type": "code",
      "metadata": {
        "id": "oRicO9_qvc43"
      },
      "source": [
        "torch.save(voice_cnn.state_dict(), 'voice2D_87_70MFCC.pt')"
      ],
      "execution_count": null,
      "outputs": []
    },
    {
      "cell_type": "code",
      "metadata": {
        "id": "ANG7fu9q8_pV"
      },
      "source": [
        "results = pd.DataFrame()"
      ],
      "execution_count": null,
      "outputs": []
    },
    {
      "cell_type": "code",
      "metadata": {
        "id": "YJeTPyRN9LKr"
      },
      "source": [
        "results['labels'] = np.unique(y_train)"
      ],
      "execution_count": null,
      "outputs": []
    },
    {
      "cell_type": "code",
      "metadata": {
        "id": "mC9svVIU9YPv"
      },
      "source": [
        "train_sec = []\n",
        "for label in results.labels:\n",
        "  train_sec.append(data_train.loc[data_train['label'] == label].count()[0])\n",
        "valid_sec = []\n",
        "for label in results.labels:\n",
        "  valid_sec.append(data_valid.loc[data_valid['label'] == label].count()[0])\n",
        "test_sec = []\n",
        "for label in results.labels:\n",
        "  test_sec.append(data_test.loc[data_test['label'] == label].count()[0])\n",
        "results['train_sec'] = train_sec\n",
        "results['valid_sec'] = valid_sec\n",
        "results['test_sec'] = test_sec"
      ],
      "execution_count": null,
      "outputs": []
    },
    {
      "cell_type": "code",
      "metadata": {
        "id": "_x7n2lcbEFkF"
      },
      "source": [
        "n_true = [0]*206\n",
        "for i in range(len(p)):\n",
        "  if p[i]==e[i]:\n",
        "    n_true[e[i]]+=1\n",
        "results['n_true'] = n_true"
      ],
      "execution_count": null,
      "outputs": []
    },
    {
      "cell_type": "code",
      "metadata": {
        "id": "q7MBXGUBAUtf"
      },
      "source": [
        "results['percent_true'] =  results.n_true/results.test_sec"
      ],
      "execution_count": null,
      "outputs": []
    },
    {
      "cell_type": "code",
      "metadata": {
        "colab": {
          "base_uri": "https://localhost:8080/",
          "height": 77
        },
        "id": "3NpV1oT2TXN5",
        "outputId": "e61361bf-18c0-4ac2-a27c-ceddd4432680"
      },
      "source": [
        "results.loc[results['labels'] == 205 ]"
      ],
      "execution_count": null,
      "outputs": [
        {
          "output_type": "execute_result",
          "data": {
            "text/html": [
              "<div>\n",
              "<style scoped>\n",
              "    .dataframe tbody tr th:only-of-type {\n",
              "        vertical-align: middle;\n",
              "    }\n",
              "\n",
              "    .dataframe tbody tr th {\n",
              "        vertical-align: top;\n",
              "    }\n",
              "\n",
              "    .dataframe thead th {\n",
              "        text-align: right;\n",
              "    }\n",
              "</style>\n",
              "<table border=\"1\" class=\"dataframe\">\n",
              "  <thead>\n",
              "    <tr style=\"text-align: right;\">\n",
              "      <th></th>\n",
              "      <th>labels</th>\n",
              "      <th>train_sec</th>\n",
              "      <th>valid_sec</th>\n",
              "      <th>test_sec</th>\n",
              "      <th>n_true</th>\n",
              "      <th>percent_true</th>\n",
              "    </tr>\n",
              "  </thead>\n",
              "  <tbody>\n",
              "    <tr>\n",
              "      <th>205</th>\n",
              "      <td>205</td>\n",
              "      <td>58</td>\n",
              "      <td>8</td>\n",
              "      <td>7</td>\n",
              "      <td>5</td>\n",
              "      <td>0.714286</td>\n",
              "    </tr>\n",
              "  </tbody>\n",
              "</table>\n",
              "</div>"
            ],
            "text/plain": [
              "     labels  train_sec  valid_sec  test_sec  n_true  percent_true\n",
              "205     205         58          8         7       5      0.714286"
            ]
          },
          "metadata": {
            "tags": []
          },
          "execution_count": 41
        }
      ]
    },
    {
      "cell_type": "code",
      "metadata": {
        "id": "kqZQrUvJFAks"
      },
      "source": [
        "results.to_csv('results/CNN2D_70MFCC_accuracy_87.csv')"
      ],
      "execution_count": null,
      "outputs": []
    },
    {
      "cell_type": "code",
      "metadata": {
        "colab": {
          "base_uri": "https://localhost:8080/"
        },
        "id": "mXZE5NSEbUWI",
        "outputId": "90f5f1f6-0706-4ea9-ac5f-5e05814ac113"
      },
      "source": [
        "(results.loc[results['percent_true'] >0.6].train_sec + results.loc[results['percent_true'] >0.6].valid_sec + results.loc[results['percent_true'] >0.6].test_sec).mode()"
      ],
      "execution_count": null,
      "outputs": [
        {
          "output_type": "execute_result",
          "data": {
            "text/plain": [
              "0    83\n",
              "dtype: int64"
            ]
          },
          "metadata": {
            "tags": []
          },
          "execution_count": 52
        }
      ]
    },
    {
      "cell_type": "code",
      "metadata": {
        "colab": {
          "base_uri": "https://localhost:8080/"
        },
        "id": "l0rQ8jsEO5aL",
        "outputId": "e3a174cf-6d44-4091-e812-2f6efb7afe53"
      },
      "source": [
        "!zip -r /content/results.zip /content/results"
      ],
      "execution_count": null,
      "outputs": [
        {
          "output_type": "stream",
          "text": [
            "updating: content/results/ (stored 0%)\n",
            "updating: content/results/CNN2D_70MFCC_accuracy_87.csv (deflated 68%)\n",
            "  adding: content/results/voice2D_87_70MFCC.pt (deflated 8%)\n"
          ],
          "name": "stdout"
        }
      ]
    }
  ]
}