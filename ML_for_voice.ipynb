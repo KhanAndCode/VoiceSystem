{
  "nbformat": 4,
  "nbformat_minor": 0,
  "metadata": {
    "colab": {
      "name": "ML_for_voice.ipynb",
      "provenance": [],
      "collapsed_sections": [
        "ImkQOuKkhS7t",
        "1YjCDvgO3Lme",
        "jvvh1D4NA1S4"
      ],
      "toc_visible": true
    },
    "kernelspec": {
      "display_name": "Python 3",
      "name": "python3"
    }
  },
  "cells": [
    {
      "cell_type": "code",
      "metadata": {
        "id": "42lnJwHrAsIF",
        "colab": {
          "base_uri": "https://localhost:8080/"
        },
        "outputId": "65636e04-f381-41d7-a614-203c84a60d33"
      },
      "source": [
        "!pip install torchaudio\n",
        "import torchaudio\n",
        "import torch"
      ],
      "execution_count": null,
      "outputs": [
        {
          "output_type": "stream",
          "text": [
            "Collecting torchaudio\n",
            "\u001b[?25l  Downloading https://files.pythonhosted.org/packages/aa/55/01ad9244bcd595e39cea5ce30726a7fe02fd963d07daeb136bfe7e23f0a5/torchaudio-0.8.1-cp37-cp37m-manylinux1_x86_64.whl (1.9MB)\n",
            "\u001b[K     |████████████████████████████████| 1.9MB 6.5MB/s \n",
            "\u001b[?25hRequirement already satisfied: torch==1.8.1 in /usr/local/lib/python3.7/dist-packages (from torchaudio) (1.8.1+cu101)\n",
            "Requirement already satisfied: typing-extensions in /usr/local/lib/python3.7/dist-packages (from torch==1.8.1->torchaudio) (3.7.4.3)\n",
            "Requirement already satisfied: numpy in /usr/local/lib/python3.7/dist-packages (from torch==1.8.1->torchaudio) (1.19.5)\n",
            "Installing collected packages: torchaudio\n",
            "Successfully installed torchaudio-0.8.1\n"
          ],
          "name": "stdout"
        }
      ]
    },
    {
      "cell_type": "code",
      "metadata": {
        "id": "MIVmprKj5lo6"
      },
      "source": [
        "from sklearn.ensemble import RandomForestClassifier\n",
        "from sklearn.neighbors import KNeighborsClassifier\n",
        "from sklearn.linear_model import SGDClassifier\n",
        "from sklearn.multiclass import OneVsRestClassifier\n",
        "from sklearn.preprocessing import LabelEncoder\n",
        "from sklearn.metrics import recall_score\n",
        "from sklearn.metrics import precision_score\n",
        "from sklearn.metrics import accuracy_score\n",
        "from sklearn.cluster import KMeans"
      ],
      "execution_count": null,
      "outputs": []
    },
    {
      "cell_type": "code",
      "metadata": {
        "id": "GN-mzFKWDPBt"
      },
      "source": [
        "import numpy as np\n",
        "import librosa\n",
        "import matplotlib.pyplot as plt\n",
        "import pandas as pd"
      ],
      "execution_count": null,
      "outputs": []
    },
    {
      "cell_type": "code",
      "metadata": {
        "id": "xqwXjNzvUqWM"
      },
      "source": [
        "import os\n",
        "from pathlib import Path"
      ],
      "execution_count": null,
      "outputs": []
    },
    {
      "cell_type": "code",
      "metadata": {
        "colab": {
          "base_uri": "https://localhost:8080/"
        },
        "id": "-NxeQbNSUnQY",
        "outputId": "771de4b5-01b4-4638-a7fa-f68cb75f1096"
      },
      "source": [
        "!gdown https://drive.google.com/uc?id=1iVEgEKm1tS1upClYWih6ikEiwd8mh0Vm"
      ],
      "execution_count": null,
      "outputs": [
        {
          "output_type": "stream",
          "text": [
            "Downloading...\n",
            "From: https://drive.google.com/uc?id=1iVEgEKm1tS1upClYWih6ikEiwd8mh0Vm\n",
            "To: /content/voice_print.zip\n",
            "2.01GB [00:17, 113MB/s]\n"
          ],
          "name": "stdout"
        }
      ]
    },
    {
      "cell_type": "code",
      "metadata": {
        "id": "Ft52aPoKe30j"
      },
      "source": [
        "!unzip -q voice_print"
      ],
      "execution_count": null,
      "outputs": []
    },
    {
      "cell_type": "code",
      "metadata": {
        "id": "yNDiUfgg9YY5"
      },
      "source": [
        "data = pd.read_csv(\"/content/voice_print.csv\")"
      ],
      "execution_count": null,
      "outputs": []
    },
    {
      "cell_type": "code",
      "metadata": {
        "id": "yG-Qf2qQ-AyR"
      },
      "source": [
        "data_test = data.loc[data['mode'] == 'test']"
      ],
      "execution_count": null,
      "outputs": []
    },
    {
      "cell_type": "code",
      "metadata": {
        "id": "95vGPSaYAcyp"
      },
      "source": [
        "X_test, y_test = data_test.voiceprint, data_test.label"
      ],
      "execution_count": null,
      "outputs": []
    },
    {
      "cell_type": "code",
      "metadata": {
        "id": "MIIXv2TVB3Hx"
      },
      "source": [
        "data_train = data.loc[data['mode'] == 'train']"
      ],
      "execution_count": null,
      "outputs": []
    },
    {
      "cell_type": "code",
      "metadata": {
        "id": "P6Pajf4RU-8c"
      },
      "source": [
        "data_valid = data.loc[data['mode'] == 'valid']"
      ],
      "execution_count": null,
      "outputs": []
    },
    {
      "cell_type": "code",
      "metadata": {
        "id": "aapxyiZCVniz"
      },
      "source": [
        "X_valid, y_valid = data_valid.voiceprint, data_valid.label"
      ],
      "execution_count": null,
      "outputs": []
    },
    {
      "cell_type": "code",
      "metadata": {
        "id": "YSUs6Q9jB8VX"
      },
      "source": [
        "X_train, y_train = data_train.voiceprint, data_train.label"
      ],
      "execution_count": null,
      "outputs": []
    },
    {
      "cell_type": "markdown",
      "metadata": {
        "id": "TY6gKrgzRFbi"
      },
      "source": [
        ""
      ]
    },
    {
      "cell_type": "code",
      "metadata": {
        "id": "wUDjeqvEeMfZ"
      },
      "source": [
        "def get_mfcc(amplitudes, labels):\n",
        "  X = []\n",
        "  y = []\n",
        "  for amp in amplitudes:\n",
        "    amp_t = torch.from_numpy(np.array(amp[1:-1].split(\",\"), dtype=np.float32)).view(1, 8000)\n",
        "    mfcc = torchaudio.transforms.MFCC(8000, 20, log_mels=False,\n",
        "                                          melkwargs={'n_fft': 512, 'n_mels': 20, 'win_length': 200, 'hop_length': 80,\n",
        "                                                     'f_min': 70.0, 'f_max': 4000.0})(amp_t)\n",
        "    \n",
        "    X.append(mfcc.numpy())\n",
        "  for label in labels:\n",
        "    y.append(label)\n",
        "    # y.append(label)\n",
        "    # y.append(label)\n",
        "  return X, y"
      ],
      "execution_count": null,
      "outputs": []
    },
    {
      "cell_type": "code",
      "metadata": {
        "id": "8IeE3zT8B7W-"
      },
      "source": [
        "X_train_mfcc, y_train_mfcc  = get_mfcc(X_train, y_train)\n",
        "X_valid_mfcc, y_valid_mfcc = get_mfcc(X_valid, y_valid)"
      ],
      "execution_count": null,
      "outputs": []
    },
    {
      "cell_type": "code",
      "metadata": {
        "id": "8gRmY8xiB8Dp"
      },
      "source": [
        "# X_train_mfcc = torch.cat(X_train_mfcc)\n",
        "# X_valid_mfcc = torch.cat(X_valid_mfcc)\n",
        "# y_train_mfcc = torch.LongTensor(y_train_mfcc)\n",
        "# y_valid_mfcc = torch.LongTensor(y_valid_mfcc)"
      ],
      "execution_count": null,
      "outputs": []
    },
    {
      "cell_type": "code",
      "metadata": {
        "colab": {
          "base_uri": "https://localhost:8080/"
        },
        "id": "yYF-UCdp10eS",
        "outputId": "94443a80-40b6-4db0-e330-eece26859b5e"
      },
      "source": [
        ""
      ],
      "execution_count": null,
      "outputs": [
        {
          "output_type": "execute_result",
          "data": {
            "text/plain": [
              "(1, 120, 101)"
            ]
          },
          "metadata": {
            "tags": []
          },
          "execution_count": 25
        }
      ]
    },
    {
      "cell_type": "code",
      "metadata": {
        "id": "FKRAGEYCBXo8"
      },
      "source": [
        "X_test_mfcc, y_test_mfcc = get_mfcc(X_test, y_test)\n",
        "X_test_mfcc = np.array(X_test_mfcc)\n",
        "a = X_test_mfcc.shape[3]\n",
        "b = X_test_mfcc.shape[2]\n",
        "X_test_mfcc = X_test_mfcc.reshape((1384, a*b))\n",
        "y_test_mfcc = np.array(y_test_mfcc)"
      ],
      "execution_count": null,
      "outputs": []
    },
    {
      "cell_type": "code",
      "metadata": {
        "id": "X-H3beFBMB5B"
      },
      "source": [
        "def generate_batches(X, y, batch_size=64):\n",
        "    assert len(X) == len(y)\n",
        "    np.random.seed(42)\n",
        "    X = np.array(X)\n",
        "    y = np.array(y)\n",
        "    perm = np.random.permutation(len(X))\n",
        "    for start in range(0, (len(X)//batch_size)*batch_size, batch_size):\n",
        "      end = min(start + batch_size, len(X))\n",
        "      batch_idx = perm[start:end]\n",
        "      yield X[batch_idx], y[batch_idx]"
      ],
      "execution_count": null,
      "outputs": []
    },
    {
      "cell_type": "markdown",
      "metadata": {
        "id": "ImkQOuKkhS7t"
      },
      "source": [
        "# SGD SVM"
      ]
    },
    {
      "cell_type": "code",
      "metadata": {
        "id": "FrqQJgTKIZ4l"
      },
      "source": [
        "sgd_svm = SGDClassifier()"
      ],
      "execution_count": null,
      "outputs": []
    },
    {
      "cell_type": "code",
      "metadata": {
        "id": "HUsvn1vAXl1W"
      },
      "source": [
        "batch_size = 64\n",
        "epochs = 50"
      ],
      "execution_count": null,
      "outputs": []
    },
    {
      "cell_type": "code",
      "metadata": {
        "colab": {
          "base_uri": "https://localhost:8080/"
        },
        "id": "ewqAHYSiV0MY",
        "outputId": "ae2d30db-1f34-4072-bdde-6a020440f76b"
      },
      "source": [
        "for epoch in range(epochs):\n",
        "  for X_b, y_b in generate_batches(X_train_mfcc, y_train_mfcc, batch_size):\n",
        "    a = X_b.shape[3]\n",
        "    b = X_b.shape[2]\n",
        "    X_b = X_b.reshape((batch_size, a*b))\n",
        "    sgd_svm.partial_fit(X_b, y_b, classes=np.unique(y_test_mfcc))\n",
        "  for X_b, y_b in generate_batches(X_valid_mfcc, y_valid_mfcc, batch_size):\n",
        "    a = X_b.shape[3]\n",
        "    b = X_b.shape[2]\n",
        "    X_b = X_b.reshape((batch_size, a*b))\n",
        "    sgd_svm.partial_fit(X_b, y_b, classes=np.unique(y_test_mfcc)) \n",
        "  print(epoch, sgd_svm.score(X_test_mfcc, y_test_mfcc))"
      ],
      "execution_count": null,
      "outputs": [
        {
          "output_type": "stream",
          "text": [
            "0 0.444364161849711\n",
            "1 0.5021676300578035\n",
            "2 0.5794797687861272\n",
            "3 0.5036127167630058\n",
            "4 0.6380057803468208\n",
            "5 0.6336705202312138\n",
            "6 0.7117052023121387\n",
            "7 0.786849710982659\n",
            "8 0.7377167630057804\n",
            "9 0.7911849710982659\n",
            "10 0.6958092485549133\n",
            "11 0.6965317919075145\n",
            "12 0.7073699421965318\n",
            "13 0.8735549132947977\n",
            "14 0.7817919075144508\n",
            "15 0.8005780346820809\n",
            "16 0.880057803468208\n",
            "17 0.7803468208092486\n",
            "18 0.8569364161849711\n",
            "19 0.9060693641618497\n",
            "20 0.8078034682080925\n",
            "21 0.8460982658959537\n",
            "22 0.880057803468208\n",
            "23 0.8706647398843931\n",
            "24 0.903179190751445\n",
            "25 0.8995664739884393\n",
            "26 0.846820809248555\n",
            "27 0.9125722543352601\n",
            "28 0.9082369942196532\n",
            "29 0.8923410404624278\n",
            "30 0.9060693641618497\n",
            "31 0.9313583815028902\n",
            "32 0.944364161849711\n",
            "33 0.953757225433526\n",
            "34 0.9617052023121387\n",
            "35 0.9465317919075145\n",
            "36 0.9263005780346821\n",
            "37 0.9458092485549133\n",
            "38 0.9776011560693642\n",
            "39 0.9385838150289018\n",
            "40 0.9544797687861272\n",
            "41 0.9653179190751445\n",
            "42 0.9660404624277457\n",
            "43 0.9104046242774566\n",
            "44 0.9667630057803468\n",
            "45 0.976878612716763\n",
            "46 0.9241329479768786\n",
            "47 0.9638728323699421\n",
            "48 0.9826589595375722\n",
            "49 0.9703757225433526\n"
          ],
          "name": "stdout"
        }
      ]
    },
    {
      "cell_type": "code",
      "metadata": {
        "id": "cEHSWH2_CVJ1"
      },
      "source": [
        "e = []\n",
        "p = []\n",
        "for i in range(len(y_test)):\n",
        "  pred = sgd_svm.predict([X_test_mfcc[i]])\n",
        "  if pred!=y_test_mfcc[i]:\n",
        "    p.append(pred)\n",
        "    e.append(y_test_mfcc[i])"
      ],
      "execution_count": null,
      "outputs": []
    },
    {
      "cell_type": "code",
      "metadata": {
        "id": "xpOPno2XcYo-"
      },
      "source": [
        ""
      ],
      "execution_count": null,
      "outputs": []
    },
    {
      "cell_type": "code",
      "metadata": {
        "colab": {
          "base_uri": "https://localhost:8080/"
        },
        "id": "TPWFqNOngRGG",
        "outputId": "b3f20c49-e3d1-4cf7-9f08-aff3228ff55d"
      },
      "source": [
        "p"
      ],
      "execution_count": null,
      "outputs": [
        {
          "output_type": "execute_result",
          "data": {
            "text/plain": [
              "[array([47]),\n",
              " array([189]),\n",
              " array([109]),\n",
              " array([117]),\n",
              " array([62]),\n",
              " array([183]),\n",
              " array([117]),\n",
              " array([99]),\n",
              " array([135]),\n",
              " array([62]),\n",
              " array([117]),\n",
              " array([135]),\n",
              " array([135]),\n",
              " array([175]),\n",
              " array([135]),\n",
              " array([117]),\n",
              " array([105]),\n",
              " array([117]),\n",
              " array([117]),\n",
              " array([29]),\n",
              " array([99]),\n",
              " array([183]),\n",
              " array([105]),\n",
              " array([117]),\n",
              " array([168]),\n",
              " array([171]),\n",
              " array([109]),\n",
              " array([29]),\n",
              " array([102]),\n",
              " array([117]),\n",
              " array([189]),\n",
              " array([32]),\n",
              " array([117]),\n",
              " array([117]),\n",
              " array([117]),\n",
              " array([1]),\n",
              " array([127]),\n",
              " array([139]),\n",
              " array([135]),\n",
              " array([117]),\n",
              " array([135]),\n",
              " array([183]),\n",
              " array([102]),\n",
              " array([62]),\n",
              " array([109]),\n",
              " array([117]),\n",
              " array([29]),\n",
              " array([135]),\n",
              " array([117]),\n",
              " array([183]),\n",
              " array([135]),\n",
              " array([102]),\n",
              " array([89]),\n",
              " array([10]),\n",
              " array([189]),\n",
              " array([135]),\n",
              " array([117]),\n",
              " array([117]),\n",
              " array([62]),\n",
              " array([117]),\n",
              " array([117]),\n",
              " array([62]),\n",
              " array([83]),\n",
              " array([117]),\n",
              " array([117]),\n",
              " array([117]),\n",
              " array([117]),\n",
              " array([117]),\n",
              " array([135]),\n",
              " array([117]),\n",
              " array([117]),\n",
              " array([109]),\n",
              " array([10]),\n",
              " array([85]),\n",
              " array([85]),\n",
              " array([27]),\n",
              " array([117]),\n",
              " array([102]),\n",
              " array([117]),\n",
              " array([27]),\n",
              " array([189]),\n",
              " array([117]),\n",
              " array([117]),\n",
              " array([117]),\n",
              " array([44]),\n",
              " array([135]),\n",
              " array([26]),\n",
              " array([126]),\n",
              " array([117]),\n",
              " array([189]),\n",
              " array([109]),\n",
              " array([102]),\n",
              " array([135]),\n",
              " array([135]),\n",
              " array([94]),\n",
              " array([135]),\n",
              " array([135]),\n",
              " array([135]),\n",
              " array([117]),\n",
              " array([117]),\n",
              " array([117]),\n",
              " array([62]),\n",
              " array([1]),\n",
              " array([117]),\n",
              " array([117]),\n",
              " array([117]),\n",
              " array([117]),\n",
              " array([102]),\n",
              " array([102]),\n",
              " array([117]),\n",
              " array([29]),\n",
              " array([117]),\n",
              " array([109]),\n",
              " array([117]),\n",
              " array([117]),\n",
              " array([102]),\n",
              " array([117]),\n",
              " array([111]),\n",
              " array([44]),\n",
              " array([102]),\n",
              " array([102]),\n",
              " array([135]),\n",
              " array([119]),\n",
              " array([117]),\n",
              " array([139]),\n",
              " array([37]),\n",
              " array([135]),\n",
              " array([105]),\n",
              " array([135]),\n",
              " array([117]),\n",
              " array([117]),\n",
              " array([110]),\n",
              " array([47]),\n",
              " array([189]),\n",
              " array([105]),\n",
              " array([44]),\n",
              " array([105]),\n",
              " array([102]),\n",
              " array([102]),\n",
              " array([102]),\n",
              " array([117]),\n",
              " array([117]),\n",
              " array([37]),\n",
              " array([117]),\n",
              " array([135]),\n",
              " array([135]),\n",
              " array([117]),\n",
              " array([44]),\n",
              " array([143]),\n",
              " array([132]),\n",
              " array([173]),\n",
              " array([189]),\n",
              " array([102]),\n",
              " array([183])]"
            ]
          },
          "metadata": {
            "tags": []
          },
          "execution_count": 28
        }
      ]
    },
    {
      "cell_type": "code",
      "metadata": {
        "id": "tG5FFQJeFgp8",
        "colab": {
          "base_uri": "https://localhost:8080/"
        },
        "outputId": "bdb43bc6-6018-4b3b-c464-c26f3ea0d5c0"
      },
      "source": [
        "p = []\n",
        "for i in range(len(y_test)):\n",
        "  pred = sgd_svm.predict([X_test_mfcc[i]])\n",
        "  p.append(pred)\n",
        "p[-40:-1]"
      ],
      "execution_count": null,
      "outputs": [
        {
          "output_type": "execute_result",
          "data": {
            "text/plain": [
              "[array([197]),\n",
              " array([198]),\n",
              " array([198]),\n",
              " array([198]),\n",
              " array([111]),\n",
              " array([199]),\n",
              " array([199]),\n",
              " array([199]),\n",
              " array([200]),\n",
              " array([200]),\n",
              " array([200]),\n",
              " array([200]),\n",
              " array([200]),\n",
              " array([200]),\n",
              " array([201]),\n",
              " array([201]),\n",
              " array([201]),\n",
              " array([201]),\n",
              " array([201]),\n",
              " array([201]),\n",
              " array([202]),\n",
              " array([202]),\n",
              " array([202]),\n",
              " array([202]),\n",
              " array([202]),\n",
              " array([203]),\n",
              " array([203]),\n",
              " array([203]),\n",
              " array([203]),\n",
              " array([204]),\n",
              " array([204]),\n",
              " array([204]),\n",
              " array([111]),\n",
              " array([205]),\n",
              " array([205]),\n",
              " array([60]),\n",
              " array([56]),\n",
              " array([135]),\n",
              " array([93])]"
            ]
          },
          "metadata": {
            "tags": []
          },
          "execution_count": 51
        }
      ]
    },
    {
      "cell_type": "code",
      "metadata": {
        "colab": {
          "base_uri": "https://localhost:8080/"
        },
        "id": "SYEaUNdzexQt",
        "outputId": "b307721f-2e80-4f2f-fc28-89caef985a98"
      },
      "source": [
        "y_test_mfcc[-10:-1]"
      ],
      "execution_count": null,
      "outputs": [
        {
          "output_type": "execute_result",
          "data": {
            "text/plain": [
              "array([204, 204, 204, 205, 205, 205, 205, 205, 205])"
            ]
          },
          "metadata": {
            "tags": []
          },
          "execution_count": 52
        }
      ]
    },
    {
      "cell_type": "code",
      "metadata": {
        "colab": {
          "base_uri": "https://localhost:8080/"
        },
        "id": "4ZSkg0Nxes4x",
        "outputId": "adb8aa03-1954-4972-8c68-1f4fa8ba9382"
      },
      "source": [
        "p[-10:-1]"
      ],
      "execution_count": null,
      "outputs": [
        {
          "output_type": "execute_result",
          "data": {
            "text/plain": [
              "[array([204]),\n",
              " array([204]),\n",
              " array([204]),\n",
              " array([127]),\n",
              " array([205]),\n",
              " array([141]),\n",
              " array([56]),\n",
              " array([205]),\n",
              " array([93])]"
            ]
          },
          "metadata": {
            "tags": []
          },
          "execution_count": 73
        }
      ]
    },
    {
      "cell_type": "code",
      "metadata": {
        "id": "Kb0PziYd_Eqm"
      },
      "source": [
        "a = X_test_mfcc.shape[1]\n",
        "b = X_test_mfcc.shape[2]\n",
        "X_test_mfcc = X_test_mfcc.reshape((4152, a*b))\n",
        "y_test = np.array(y_test)"
      ],
      "execution_count": null,
      "outputs": []
    },
    {
      "cell_type": "code",
      "metadata": {
        "id": "ApWDBjS9BHc_"
      },
      "source": [
        ""
      ],
      "execution_count": null,
      "outputs": []
    },
    {
      "cell_type": "code",
      "metadata": {
        "colab": {
          "base_uri": "https://localhost:8080/"
        },
        "id": "l-ojBLw1BgIm",
        "outputId": "89e65476-901f-4792-e789-adf69a2c7d30"
      },
      "source": [
        ""
      ],
      "execution_count": null,
      "outputs": [
        {
          "output_type": "execute_result",
          "data": {
            "text/plain": [
              "0.34344894026974954"
            ]
          },
          "metadata": {
            "tags": []
          },
          "execution_count": 79
        }
      ]
    },
    {
      "cell_type": "code",
      "metadata": {
        "id": "q403YQ6m2AHN"
      },
      "source": [
        "import joblib"
      ],
      "execution_count": null,
      "outputs": []
    },
    {
      "cell_type": "code",
      "metadata": {
        "colab": {
          "base_uri": "https://localhost:8080/"
        },
        "id": "IzgMNc2i2IX2",
        "outputId": "6a22c705-0211-4280-a990-99064607c7f7"
      },
      "source": [
        "filename = 'svm_sgd_70_97_4935s.sav'\n",
        "joblib.dump(sgd_svm, filename)"
      ],
      "execution_count": null,
      "outputs": [
        {
          "output_type": "execute_result",
          "data": {
            "text/plain": [
              "['svm_sgd_70_97_4935s.sav']"
            ]
          },
          "metadata": {
            "tags": []
          },
          "execution_count": 54
        }
      ]
    },
    {
      "cell_type": "markdown",
      "metadata": {
        "id": "1YjCDvgO3Lme"
      },
      "source": [
        "# Passive Agressive Classifier"
      ]
    },
    {
      "cell_type": "code",
      "metadata": {
        "id": "L0VCXWtVPkzd"
      },
      "source": [
        ""
      ],
      "execution_count": null,
      "outputs": []
    },
    {
      "cell_type": "code",
      "metadata": {
        "id": "PwzwTyTcVCr0"
      },
      "source": [
        "from sklearn.linear_model import PassiveAggressiveClassifier"
      ],
      "execution_count": null,
      "outputs": []
    },
    {
      "cell_type": "code",
      "metadata": {
        "id": "zz2Mb_Ds3hoD"
      },
      "source": [
        "pac = PassiveAggressiveClassifier(C=0.2, loss='hinge', warm_start=True, average=True)"
      ],
      "execution_count": null,
      "outputs": []
    },
    {
      "cell_type": "code",
      "metadata": {
        "id": "5a6Ysj4i3hH7"
      },
      "source": [
        "batch_size = 64\n",
        "epochs = 25"
      ],
      "execution_count": null,
      "outputs": []
    },
    {
      "cell_type": "code",
      "metadata": {
        "colab": {
          "base_uri": "https://localhost:8080/",
          "height": 874
        },
        "id": "Hgm1G__d3faj",
        "outputId": "a5cf6cc5-6ab0-4c59-8b0d-310639c64c0f"
      },
      "source": [
        "for epoch in range(epochs):\n",
        "  for X_b, y_b in generate_batches(X_train_mfcc, y_train_mfcc, batch_size):\n",
        "    a = X_b.shape[3]\n",
        "    b = X_b.shape[2]\n",
        "    X_b = X_b.reshape((batch_size, a*b))\n",
        "    pac.partial_fit(X_b, y_b, classes=np.unique(y_test_mfcc))\n",
        "  for X_b, y_b in generate_batches(X_valid_mfcc, y_valid_mfcc, batch_size):\n",
        "    a = X_b.shape[3]\n",
        "    b = X_b.shape[2]\n",
        "    X_b = X_b.reshape((batch_size, a*b))\n",
        "    pac.partial_fit(X_b, y_b, classes=np.unique(y_test_mfcc)) \n",
        "  print(epoch, pac.score(X_test_mfcc, y_test_mfcc))"
      ],
      "execution_count": null,
      "outputs": [
        {
          "output_type": "stream",
          "text": [
            "0 0.8735549132947977\n",
            "1 0.8786127167630058\n",
            "2 0.8807803468208093\n",
            "3 0.8822254335260116\n",
            "4 0.8858381502890174\n",
            "5 0.8872832369942196\n",
            "6 0.8908959537572254\n",
            "7 0.8916184971098265\n",
            "8 0.8937861271676301\n",
            "9 0.8959537572254336\n",
            "10 0.8959537572254336\n",
            "11 0.8988439306358381\n",
            "12 0.9002890173410405\n",
            "13 0.903179190751445\n",
            "14 0.9039017341040463\n",
            "15 0.9060693641618497\n",
            "16 0.9067919075144508\n",
            "17 0.9096820809248555\n",
            "18 0.911849710982659\n",
            "19 0.9125722543352601\n",
            "20 0.9132947976878613\n",
            "21 0.9147398843930635\n",
            "22 0.9161849710982659\n",
            "23 0.9161849710982659\n"
          ],
          "name": "stdout"
        },
        {
          "output_type": "error",
          "ename": "KeyboardInterrupt",
          "evalue": "ignored",
          "traceback": [
            "\u001b[0;31m---------------------------------------------------------------------------\u001b[0m",
            "\u001b[0;31mKeyboardInterrupt\u001b[0m                         Traceback (most recent call last)",
            "\u001b[0;32m<ipython-input-39-72fb19d5a590>\u001b[0m in \u001b[0;36m<module>\u001b[0;34m()\u001b[0m\n\u001b[1;32m      4\u001b[0m     \u001b[0mb\u001b[0m \u001b[0;34m=\u001b[0m \u001b[0mX_b\u001b[0m\u001b[0;34m.\u001b[0m\u001b[0mshape\u001b[0m\u001b[0;34m[\u001b[0m\u001b[0;36m2\u001b[0m\u001b[0;34m]\u001b[0m\u001b[0;34m\u001b[0m\u001b[0;34m\u001b[0m\u001b[0m\n\u001b[1;32m      5\u001b[0m     \u001b[0mX_b\u001b[0m \u001b[0;34m=\u001b[0m \u001b[0mX_b\u001b[0m\u001b[0;34m.\u001b[0m\u001b[0mreshape\u001b[0m\u001b[0;34m(\u001b[0m\u001b[0;34m(\u001b[0m\u001b[0mbatch_size\u001b[0m\u001b[0;34m,\u001b[0m \u001b[0ma\u001b[0m\u001b[0;34m*\u001b[0m\u001b[0mb\u001b[0m\u001b[0;34m)\u001b[0m\u001b[0;34m)\u001b[0m\u001b[0;34m\u001b[0m\u001b[0;34m\u001b[0m\u001b[0m\n\u001b[0;32m----> 6\u001b[0;31m     \u001b[0mpac\u001b[0m\u001b[0;34m.\u001b[0m\u001b[0mpartial_fit\u001b[0m\u001b[0;34m(\u001b[0m\u001b[0mX_b\u001b[0m\u001b[0;34m,\u001b[0m \u001b[0my_b\u001b[0m\u001b[0;34m,\u001b[0m \u001b[0mclasses\u001b[0m\u001b[0;34m=\u001b[0m\u001b[0mnp\u001b[0m\u001b[0;34m.\u001b[0m\u001b[0munique\u001b[0m\u001b[0;34m(\u001b[0m\u001b[0my_test_mfcc\u001b[0m\u001b[0;34m)\u001b[0m\u001b[0;34m)\u001b[0m\u001b[0;34m\u001b[0m\u001b[0;34m\u001b[0m\u001b[0m\n\u001b[0m\u001b[1;32m      7\u001b[0m   \u001b[0;32mfor\u001b[0m \u001b[0mX_b\u001b[0m\u001b[0;34m,\u001b[0m \u001b[0my_b\u001b[0m \u001b[0;32min\u001b[0m \u001b[0mgenerate_batches\u001b[0m\u001b[0;34m(\u001b[0m\u001b[0mX_valid_mfcc\u001b[0m\u001b[0;34m,\u001b[0m \u001b[0my_valid_mfcc\u001b[0m\u001b[0;34m,\u001b[0m \u001b[0mbatch_size\u001b[0m\u001b[0;34m)\u001b[0m\u001b[0;34m:\u001b[0m\u001b[0;34m\u001b[0m\u001b[0;34m\u001b[0m\u001b[0m\n\u001b[1;32m      8\u001b[0m     \u001b[0ma\u001b[0m \u001b[0;34m=\u001b[0m \u001b[0mX_b\u001b[0m\u001b[0;34m.\u001b[0m\u001b[0mshape\u001b[0m\u001b[0;34m[\u001b[0m\u001b[0;36m3\u001b[0m\u001b[0;34m]\u001b[0m\u001b[0;34m\u001b[0m\u001b[0;34m\u001b[0m\u001b[0m\n",
            "\u001b[0;32m/usr/local/lib/python3.7/dist-packages/sklearn/linear_model/_passive_aggressive.py\u001b[0m in \u001b[0;36mpartial_fit\u001b[0;34m(self, X, y, classes)\u001b[0m\n\u001b[1;32m    225\u001b[0m                                  \u001b[0mloss\u001b[0m\u001b[0;34m=\u001b[0m\u001b[0;34m\"hinge\"\u001b[0m\u001b[0;34m,\u001b[0m \u001b[0mlearning_rate\u001b[0m\u001b[0;34m=\u001b[0m\u001b[0mlr\u001b[0m\u001b[0;34m,\u001b[0m \u001b[0mmax_iter\u001b[0m\u001b[0;34m=\u001b[0m\u001b[0;36m1\u001b[0m\u001b[0;34m,\u001b[0m\u001b[0;34m\u001b[0m\u001b[0;34m\u001b[0m\u001b[0m\n\u001b[1;32m    226\u001b[0m                                  \u001b[0mclasses\u001b[0m\u001b[0;34m=\u001b[0m\u001b[0mclasses\u001b[0m\u001b[0;34m,\u001b[0m \u001b[0msample_weight\u001b[0m\u001b[0;34m=\u001b[0m\u001b[0;32mNone\u001b[0m\u001b[0;34m,\u001b[0m\u001b[0;34m\u001b[0m\u001b[0;34m\u001b[0m\u001b[0m\n\u001b[0;32m--> 227\u001b[0;31m                                  coef_init=None, intercept_init=None)\n\u001b[0m\u001b[1;32m    228\u001b[0m \u001b[0;34m\u001b[0m\u001b[0m\n\u001b[1;32m    229\u001b[0m     \u001b[0;32mdef\u001b[0m \u001b[0mfit\u001b[0m\u001b[0;34m(\u001b[0m\u001b[0mself\u001b[0m\u001b[0;34m,\u001b[0m \u001b[0mX\u001b[0m\u001b[0;34m,\u001b[0m \u001b[0my\u001b[0m\u001b[0;34m,\u001b[0m \u001b[0mcoef_init\u001b[0m\u001b[0;34m=\u001b[0m\u001b[0;32mNone\u001b[0m\u001b[0;34m,\u001b[0m \u001b[0mintercept_init\u001b[0m\u001b[0;34m=\u001b[0m\u001b[0;32mNone\u001b[0m\u001b[0;34m)\u001b[0m\u001b[0;34m:\u001b[0m\u001b[0;34m\u001b[0m\u001b[0;34m\u001b[0m\u001b[0m\n",
            "\u001b[0;32m/usr/local/lib/python3.7/dist-packages/sklearn/linear_model/_stochastic_gradient.py\u001b[0m in \u001b[0;36m_partial_fit\u001b[0;34m(self, X, y, alpha, C, loss, learning_rate, max_iter, classes, sample_weight, coef_init, intercept_init)\u001b[0m\n\u001b[1;32m    503\u001b[0m                                  \u001b[0mlearning_rate\u001b[0m\u001b[0;34m=\u001b[0m\u001b[0mlearning_rate\u001b[0m\u001b[0;34m,\u001b[0m\u001b[0;34m\u001b[0m\u001b[0;34m\u001b[0m\u001b[0m\n\u001b[1;32m    504\u001b[0m                                  \u001b[0msample_weight\u001b[0m\u001b[0;34m=\u001b[0m\u001b[0msample_weight\u001b[0m\u001b[0;34m,\u001b[0m\u001b[0;34m\u001b[0m\u001b[0;34m\u001b[0m\u001b[0m\n\u001b[0;32m--> 505\u001b[0;31m                                  max_iter=max_iter)\n\u001b[0m\u001b[1;32m    506\u001b[0m         \u001b[0;32melif\u001b[0m \u001b[0mn_classes\u001b[0m \u001b[0;34m==\u001b[0m \u001b[0;36m2\u001b[0m\u001b[0;34m:\u001b[0m\u001b[0;34m\u001b[0m\u001b[0;34m\u001b[0m\u001b[0m\n\u001b[1;32m    507\u001b[0m             self._fit_binary(X, y, alpha=alpha, C=C,\n",
            "\u001b[0;32m/usr/local/lib/python3.7/dist-packages/sklearn/linear_model/_stochastic_gradient.py\u001b[0m in \u001b[0;36m_fit_multiclass\u001b[0;34m(self, X, y, alpha, C, learning_rate, sample_weight, max_iter)\u001b[0m\n\u001b[1;32m    609\u001b[0m                                 \u001b[0mvalidation_mask\u001b[0m\u001b[0;34m=\u001b[0m\u001b[0mvalidation_mask\u001b[0m\u001b[0;34m,\u001b[0m\u001b[0;34m\u001b[0m\u001b[0;34m\u001b[0m\u001b[0m\n\u001b[1;32m    610\u001b[0m                                 random_state=seed)\n\u001b[0;32m--> 611\u001b[0;31m             for i, seed in enumerate(seeds))\n\u001b[0m\u001b[1;32m    612\u001b[0m \u001b[0;34m\u001b[0m\u001b[0m\n\u001b[1;32m    613\u001b[0m         \u001b[0;31m# take the maximum of n_iter_ over every binary fit\u001b[0m\u001b[0;34m\u001b[0m\u001b[0;34m\u001b[0m\u001b[0;34m\u001b[0m\u001b[0m\n",
            "\u001b[0;32m/usr/local/lib/python3.7/dist-packages/joblib/parallel.py\u001b[0m in \u001b[0;36m__call__\u001b[0;34m(self, iterable)\u001b[0m\n\u001b[1;32m   1042\u001b[0m                 \u001b[0mself\u001b[0m\u001b[0;34m.\u001b[0m\u001b[0m_iterating\u001b[0m \u001b[0;34m=\u001b[0m \u001b[0mself\u001b[0m\u001b[0;34m.\u001b[0m\u001b[0m_original_iterator\u001b[0m \u001b[0;32mis\u001b[0m \u001b[0;32mnot\u001b[0m \u001b[0;32mNone\u001b[0m\u001b[0;34m\u001b[0m\u001b[0;34m\u001b[0m\u001b[0m\n\u001b[1;32m   1043\u001b[0m \u001b[0;34m\u001b[0m\u001b[0m\n\u001b[0;32m-> 1044\u001b[0;31m             \u001b[0;32mwhile\u001b[0m \u001b[0mself\u001b[0m\u001b[0;34m.\u001b[0m\u001b[0mdispatch_one_batch\u001b[0m\u001b[0;34m(\u001b[0m\u001b[0miterator\u001b[0m\u001b[0;34m)\u001b[0m\u001b[0;34m:\u001b[0m\u001b[0;34m\u001b[0m\u001b[0;34m\u001b[0m\u001b[0m\n\u001b[0m\u001b[1;32m   1045\u001b[0m                 \u001b[0;32mpass\u001b[0m\u001b[0;34m\u001b[0m\u001b[0;34m\u001b[0m\u001b[0m\n\u001b[1;32m   1046\u001b[0m \u001b[0;34m\u001b[0m\u001b[0m\n",
            "\u001b[0;32m/usr/local/lib/python3.7/dist-packages/joblib/parallel.py\u001b[0m in \u001b[0;36mdispatch_one_batch\u001b[0;34m(self, iterator)\u001b[0m\n\u001b[1;32m    857\u001b[0m                 \u001b[0;32mreturn\u001b[0m \u001b[0;32mFalse\u001b[0m\u001b[0;34m\u001b[0m\u001b[0;34m\u001b[0m\u001b[0m\n\u001b[1;32m    858\u001b[0m             \u001b[0;32melse\u001b[0m\u001b[0;34m:\u001b[0m\u001b[0;34m\u001b[0m\u001b[0;34m\u001b[0m\u001b[0m\n\u001b[0;32m--> 859\u001b[0;31m                 \u001b[0mself\u001b[0m\u001b[0;34m.\u001b[0m\u001b[0m_dispatch\u001b[0m\u001b[0;34m(\u001b[0m\u001b[0mtasks\u001b[0m\u001b[0;34m)\u001b[0m\u001b[0;34m\u001b[0m\u001b[0;34m\u001b[0m\u001b[0m\n\u001b[0m\u001b[1;32m    860\u001b[0m                 \u001b[0;32mreturn\u001b[0m \u001b[0;32mTrue\u001b[0m\u001b[0;34m\u001b[0m\u001b[0;34m\u001b[0m\u001b[0m\n\u001b[1;32m    861\u001b[0m \u001b[0;34m\u001b[0m\u001b[0m\n",
            "\u001b[0;32m/usr/local/lib/python3.7/dist-packages/joblib/parallel.py\u001b[0m in \u001b[0;36m_dispatch\u001b[0;34m(self, batch)\u001b[0m\n\u001b[1;32m    775\u001b[0m         \u001b[0;32mwith\u001b[0m \u001b[0mself\u001b[0m\u001b[0;34m.\u001b[0m\u001b[0m_lock\u001b[0m\u001b[0;34m:\u001b[0m\u001b[0;34m\u001b[0m\u001b[0;34m\u001b[0m\u001b[0m\n\u001b[1;32m    776\u001b[0m             \u001b[0mjob_idx\u001b[0m \u001b[0;34m=\u001b[0m \u001b[0mlen\u001b[0m\u001b[0;34m(\u001b[0m\u001b[0mself\u001b[0m\u001b[0;34m.\u001b[0m\u001b[0m_jobs\u001b[0m\u001b[0;34m)\u001b[0m\u001b[0;34m\u001b[0m\u001b[0;34m\u001b[0m\u001b[0m\n\u001b[0;32m--> 777\u001b[0;31m             \u001b[0mjob\u001b[0m \u001b[0;34m=\u001b[0m \u001b[0mself\u001b[0m\u001b[0;34m.\u001b[0m\u001b[0m_backend\u001b[0m\u001b[0;34m.\u001b[0m\u001b[0mapply_async\u001b[0m\u001b[0;34m(\u001b[0m\u001b[0mbatch\u001b[0m\u001b[0;34m,\u001b[0m \u001b[0mcallback\u001b[0m\u001b[0;34m=\u001b[0m\u001b[0mcb\u001b[0m\u001b[0;34m)\u001b[0m\u001b[0;34m\u001b[0m\u001b[0;34m\u001b[0m\u001b[0m\n\u001b[0m\u001b[1;32m    778\u001b[0m             \u001b[0;31m# A job can complete so quickly than its callback is\u001b[0m\u001b[0;34m\u001b[0m\u001b[0;34m\u001b[0m\u001b[0;34m\u001b[0m\u001b[0m\n\u001b[1;32m    779\u001b[0m             \u001b[0;31m# called before we get here, causing self._jobs to\u001b[0m\u001b[0;34m\u001b[0m\u001b[0;34m\u001b[0m\u001b[0;34m\u001b[0m\u001b[0m\n",
            "\u001b[0;32m/usr/local/lib/python3.7/dist-packages/joblib/_parallel_backends.py\u001b[0m in \u001b[0;36mapply_async\u001b[0;34m(self, func, callback)\u001b[0m\n\u001b[1;32m    206\u001b[0m     \u001b[0;32mdef\u001b[0m \u001b[0mapply_async\u001b[0m\u001b[0;34m(\u001b[0m\u001b[0mself\u001b[0m\u001b[0;34m,\u001b[0m \u001b[0mfunc\u001b[0m\u001b[0;34m,\u001b[0m \u001b[0mcallback\u001b[0m\u001b[0;34m=\u001b[0m\u001b[0;32mNone\u001b[0m\u001b[0;34m)\u001b[0m\u001b[0;34m:\u001b[0m\u001b[0;34m\u001b[0m\u001b[0;34m\u001b[0m\u001b[0m\n\u001b[1;32m    207\u001b[0m         \u001b[0;34m\"\"\"Schedule a func to be run\"\"\"\u001b[0m\u001b[0;34m\u001b[0m\u001b[0;34m\u001b[0m\u001b[0m\n\u001b[0;32m--> 208\u001b[0;31m         \u001b[0mresult\u001b[0m \u001b[0;34m=\u001b[0m \u001b[0mImmediateResult\u001b[0m\u001b[0;34m(\u001b[0m\u001b[0mfunc\u001b[0m\u001b[0;34m)\u001b[0m\u001b[0;34m\u001b[0m\u001b[0;34m\u001b[0m\u001b[0m\n\u001b[0m\u001b[1;32m    209\u001b[0m         \u001b[0;32mif\u001b[0m \u001b[0mcallback\u001b[0m\u001b[0;34m:\u001b[0m\u001b[0;34m\u001b[0m\u001b[0;34m\u001b[0m\u001b[0m\n\u001b[1;32m    210\u001b[0m             \u001b[0mcallback\u001b[0m\u001b[0;34m(\u001b[0m\u001b[0mresult\u001b[0m\u001b[0;34m)\u001b[0m\u001b[0;34m\u001b[0m\u001b[0;34m\u001b[0m\u001b[0m\n",
            "\u001b[0;32m/usr/local/lib/python3.7/dist-packages/joblib/_parallel_backends.py\u001b[0m in \u001b[0;36m__init__\u001b[0;34m(self, batch)\u001b[0m\n\u001b[1;32m    570\u001b[0m         \u001b[0;31m# Don't delay the application, to avoid keeping the input\u001b[0m\u001b[0;34m\u001b[0m\u001b[0;34m\u001b[0m\u001b[0;34m\u001b[0m\u001b[0m\n\u001b[1;32m    571\u001b[0m         \u001b[0;31m# arguments in memory\u001b[0m\u001b[0;34m\u001b[0m\u001b[0;34m\u001b[0m\u001b[0;34m\u001b[0m\u001b[0m\n\u001b[0;32m--> 572\u001b[0;31m         \u001b[0mself\u001b[0m\u001b[0;34m.\u001b[0m\u001b[0mresults\u001b[0m \u001b[0;34m=\u001b[0m \u001b[0mbatch\u001b[0m\u001b[0;34m(\u001b[0m\u001b[0;34m)\u001b[0m\u001b[0;34m\u001b[0m\u001b[0;34m\u001b[0m\u001b[0m\n\u001b[0m\u001b[1;32m    573\u001b[0m \u001b[0;34m\u001b[0m\u001b[0m\n\u001b[1;32m    574\u001b[0m     \u001b[0;32mdef\u001b[0m \u001b[0mget\u001b[0m\u001b[0;34m(\u001b[0m\u001b[0mself\u001b[0m\u001b[0;34m)\u001b[0m\u001b[0;34m:\u001b[0m\u001b[0;34m\u001b[0m\u001b[0;34m\u001b[0m\u001b[0m\n",
            "\u001b[0;32m/usr/local/lib/python3.7/dist-packages/joblib/parallel.py\u001b[0m in \u001b[0;36m__call__\u001b[0;34m(self)\u001b[0m\n\u001b[1;32m    261\u001b[0m         \u001b[0;32mwith\u001b[0m \u001b[0mparallel_backend\u001b[0m\u001b[0;34m(\u001b[0m\u001b[0mself\u001b[0m\u001b[0;34m.\u001b[0m\u001b[0m_backend\u001b[0m\u001b[0;34m,\u001b[0m \u001b[0mn_jobs\u001b[0m\u001b[0;34m=\u001b[0m\u001b[0mself\u001b[0m\u001b[0;34m.\u001b[0m\u001b[0m_n_jobs\u001b[0m\u001b[0;34m)\u001b[0m\u001b[0;34m:\u001b[0m\u001b[0;34m\u001b[0m\u001b[0;34m\u001b[0m\u001b[0m\n\u001b[1;32m    262\u001b[0m             return [func(*args, **kwargs)\n\u001b[0;32m--> 263\u001b[0;31m                     for func, args, kwargs in self.items]\n\u001b[0m\u001b[1;32m    264\u001b[0m \u001b[0;34m\u001b[0m\u001b[0m\n\u001b[1;32m    265\u001b[0m     \u001b[0;32mdef\u001b[0m \u001b[0m__reduce__\u001b[0m\u001b[0;34m(\u001b[0m\u001b[0mself\u001b[0m\u001b[0;34m)\u001b[0m\u001b[0;34m:\u001b[0m\u001b[0;34m\u001b[0m\u001b[0;34m\u001b[0m\u001b[0m\n",
            "\u001b[0;32m/usr/local/lib/python3.7/dist-packages/joblib/parallel.py\u001b[0m in \u001b[0;36m<listcomp>\u001b[0;34m(.0)\u001b[0m\n\u001b[1;32m    261\u001b[0m         \u001b[0;32mwith\u001b[0m \u001b[0mparallel_backend\u001b[0m\u001b[0;34m(\u001b[0m\u001b[0mself\u001b[0m\u001b[0;34m.\u001b[0m\u001b[0m_backend\u001b[0m\u001b[0;34m,\u001b[0m \u001b[0mn_jobs\u001b[0m\u001b[0;34m=\u001b[0m\u001b[0mself\u001b[0m\u001b[0;34m.\u001b[0m\u001b[0m_n_jobs\u001b[0m\u001b[0;34m)\u001b[0m\u001b[0;34m:\u001b[0m\u001b[0;34m\u001b[0m\u001b[0;34m\u001b[0m\u001b[0m\n\u001b[1;32m    262\u001b[0m             return [func(*args, **kwargs)\n\u001b[0;32m--> 263\u001b[0;31m                     for func, args, kwargs in self.items]\n\u001b[0m\u001b[1;32m    264\u001b[0m \u001b[0;34m\u001b[0m\u001b[0m\n\u001b[1;32m    265\u001b[0m     \u001b[0;32mdef\u001b[0m \u001b[0m__reduce__\u001b[0m\u001b[0;34m(\u001b[0m\u001b[0mself\u001b[0m\u001b[0;34m)\u001b[0m\u001b[0;34m:\u001b[0m\u001b[0;34m\u001b[0m\u001b[0;34m\u001b[0m\u001b[0m\n",
            "\u001b[0;32m/usr/local/lib/python3.7/dist-packages/sklearn/linear_model/_stochastic_gradient.py\u001b[0m in \u001b[0;36mfit_binary\u001b[0;34m(est, i, X, y, alpha, C, learning_rate, max_iter, pos_weight, neg_weight, sample_weight, validation_mask, random_state)\u001b[0m\n\u001b[1;32m    379\u001b[0m     \u001b[0;32massert\u001b[0m \u001b[0my_i\u001b[0m\u001b[0;34m.\u001b[0m\u001b[0mshape\u001b[0m\u001b[0;34m[\u001b[0m\u001b[0;36m0\u001b[0m\u001b[0;34m]\u001b[0m \u001b[0;34m==\u001b[0m \u001b[0my\u001b[0m\u001b[0;34m.\u001b[0m\u001b[0mshape\u001b[0m\u001b[0;34m[\u001b[0m\u001b[0;36m0\u001b[0m\u001b[0;34m]\u001b[0m \u001b[0;34m==\u001b[0m \u001b[0msample_weight\u001b[0m\u001b[0;34m.\u001b[0m\u001b[0mshape\u001b[0m\u001b[0;34m[\u001b[0m\u001b[0;36m0\u001b[0m\u001b[0;34m]\u001b[0m\u001b[0;34m\u001b[0m\u001b[0;34m\u001b[0m\u001b[0m\n\u001b[1;32m    380\u001b[0m \u001b[0;34m\u001b[0m\u001b[0m\n\u001b[0;32m--> 381\u001b[0;31m     \u001b[0mrandom_state\u001b[0m \u001b[0;34m=\u001b[0m \u001b[0mcheck_random_state\u001b[0m\u001b[0;34m(\u001b[0m\u001b[0mrandom_state\u001b[0m\u001b[0;34m)\u001b[0m\u001b[0;34m\u001b[0m\u001b[0;34m\u001b[0m\u001b[0m\n\u001b[0m\u001b[1;32m    382\u001b[0m     dataset, intercept_decay = make_dataset(\n\u001b[1;32m    383\u001b[0m         X, y_i, sample_weight, random_state=random_state)\n",
            "\u001b[0;32m/usr/local/lib/python3.7/dist-packages/sklearn/utils/validation.py\u001b[0m in \u001b[0;36mcheck_random_state\u001b[0;34m(seed)\u001b[0m\n\u001b[1;32m    812\u001b[0m         \u001b[0;32mreturn\u001b[0m \u001b[0mnp\u001b[0m\u001b[0;34m.\u001b[0m\u001b[0mrandom\u001b[0m\u001b[0;34m.\u001b[0m\u001b[0mmtrand\u001b[0m\u001b[0;34m.\u001b[0m\u001b[0m_rand\u001b[0m\u001b[0;34m\u001b[0m\u001b[0;34m\u001b[0m\u001b[0m\n\u001b[1;32m    813\u001b[0m     \u001b[0;32mif\u001b[0m \u001b[0misinstance\u001b[0m\u001b[0;34m(\u001b[0m\u001b[0mseed\u001b[0m\u001b[0;34m,\u001b[0m \u001b[0mnumbers\u001b[0m\u001b[0;34m.\u001b[0m\u001b[0mIntegral\u001b[0m\u001b[0;34m)\u001b[0m\u001b[0;34m:\u001b[0m\u001b[0;34m\u001b[0m\u001b[0;34m\u001b[0m\u001b[0m\n\u001b[0;32m--> 814\u001b[0;31m         \u001b[0;32mreturn\u001b[0m \u001b[0mnp\u001b[0m\u001b[0;34m.\u001b[0m\u001b[0mrandom\u001b[0m\u001b[0;34m.\u001b[0m\u001b[0mRandomState\u001b[0m\u001b[0;34m(\u001b[0m\u001b[0mseed\u001b[0m\u001b[0;34m)\u001b[0m\u001b[0;34m\u001b[0m\u001b[0;34m\u001b[0m\u001b[0m\n\u001b[0m\u001b[1;32m    815\u001b[0m     \u001b[0;32mif\u001b[0m \u001b[0misinstance\u001b[0m\u001b[0;34m(\u001b[0m\u001b[0mseed\u001b[0m\u001b[0;34m,\u001b[0m \u001b[0mnp\u001b[0m\u001b[0;34m.\u001b[0m\u001b[0mrandom\u001b[0m\u001b[0;34m.\u001b[0m\u001b[0mRandomState\u001b[0m\u001b[0;34m)\u001b[0m\u001b[0;34m:\u001b[0m\u001b[0;34m\u001b[0m\u001b[0;34m\u001b[0m\u001b[0m\n\u001b[1;32m    816\u001b[0m         \u001b[0;32mreturn\u001b[0m \u001b[0mseed\u001b[0m\u001b[0;34m\u001b[0m\u001b[0;34m\u001b[0m\u001b[0m\n",
            "\u001b[0;32mmtrand.pyx\u001b[0m in \u001b[0;36mnumpy.random.mtrand.RandomState.__init__\u001b[0;34m()\u001b[0m\n",
            "\u001b[0;32m_mt19937.pyx\u001b[0m in \u001b[0;36mnumpy.random._mt19937.MT19937.__init__\u001b[0;34m()\u001b[0m\n",
            "\u001b[0;32mbit_generator.pyx\u001b[0m in \u001b[0;36mnumpy.random.bit_generator.BitGenerator.__init__\u001b[0;34m()\u001b[0m\n",
            "\u001b[0;32m/usr/lib/python3.7/abc.py\u001b[0m in \u001b[0;36m__instancecheck__\u001b[0;34m(cls, instance)\u001b[0m\n\u001b[1;32m    135\u001b[0m             \u001b[0;32mreturn\u001b[0m \u001b[0m_abc_register\u001b[0m\u001b[0;34m(\u001b[0m\u001b[0mcls\u001b[0m\u001b[0;34m,\u001b[0m \u001b[0msubclass\u001b[0m\u001b[0;34m)\u001b[0m\u001b[0;34m\u001b[0m\u001b[0;34m\u001b[0m\u001b[0m\n\u001b[1;32m    136\u001b[0m \u001b[0;34m\u001b[0m\u001b[0m\n\u001b[0;32m--> 137\u001b[0;31m         \u001b[0;32mdef\u001b[0m \u001b[0m__instancecheck__\u001b[0m\u001b[0;34m(\u001b[0m\u001b[0mcls\u001b[0m\u001b[0;34m,\u001b[0m \u001b[0minstance\u001b[0m\u001b[0;34m)\u001b[0m\u001b[0;34m:\u001b[0m\u001b[0;34m\u001b[0m\u001b[0;34m\u001b[0m\u001b[0m\n\u001b[0m\u001b[1;32m    138\u001b[0m             \u001b[0;34m\"\"\"Override for isinstance(instance, cls).\"\"\"\u001b[0m\u001b[0;34m\u001b[0m\u001b[0;34m\u001b[0m\u001b[0m\n\u001b[1;32m    139\u001b[0m             \u001b[0;32mreturn\u001b[0m \u001b[0m_abc_instancecheck\u001b[0m\u001b[0;34m(\u001b[0m\u001b[0mcls\u001b[0m\u001b[0;34m,\u001b[0m \u001b[0minstance\u001b[0m\u001b[0;34m)\u001b[0m\u001b[0;34m\u001b[0m\u001b[0;34m\u001b[0m\u001b[0m\n",
            "\u001b[0;31mKeyboardInterrupt\u001b[0m: "
          ]
        }
      ]
    },
    {
      "cell_type": "code",
      "metadata": {
        "colab": {
          "base_uri": "https://localhost:8080/"
        },
        "id": "LsaIGOwr3u1G",
        "outputId": "d3fc8068-2521-4097-ec2e-491e33dcf7c6"
      },
      "source": [
        "pac.score(X_test_mfcc, y_test_mfcc)"
      ],
      "execution_count": null,
      "outputs": [
        {
          "output_type": "execute_result",
          "data": {
            "text/plain": [
              "0.9884393063583815"
            ]
          },
          "metadata": {
            "tags": []
          },
          "execution_count": 25
        }
      ]
    },
    {
      "cell_type": "code",
      "metadata": {
        "id": "tw2sPJqd_NMV"
      },
      "source": [
        ""
      ],
      "execution_count": null,
      "outputs": []
    },
    {
      "cell_type": "code",
      "metadata": {
        "id": "leew8RtlY3ms",
        "colab": {
          "base_uri": "https://localhost:8080/"
        },
        "outputId": "1371ca6e-526f-4dfd-9944-574a6d6b2899"
      },
      "source": [
        "e = []\n",
        "p = []\n",
        "for i in range(len(y_test)):\n",
        "  pred = pac.predict([X_test_mfcc[i]])\n",
        "  if pred!=y_test_mfcc[i]:\n",
        "    p.append(pred)\n",
        "    e.append(y_test_mfcc[i])\n",
        "p, e"
      ],
      "execution_count": null,
      "outputs": [
        {
          "output_type": "execute_result",
          "data": {
            "text/plain": [
              "([array([135]),\n",
              "  array([111]),\n",
              "  array([109]),\n",
              "  array([119]),\n",
              "  array([111]),\n",
              "  array([135]),\n",
              "  array([183]),\n",
              "  array([87]),\n",
              "  array([109]),\n",
              "  array([127]),\n",
              "  array([64]),\n",
              "  array([132]),\n",
              "  array([56]),\n",
              "  array([135]),\n",
              "  array([135]),\n",
              "  array([118])],\n",
              " [24, 27, 66, 102, 105, 111, 122, 174, 191, 205, 205, 205, 205, 205, 205, 205])"
            ]
          },
          "metadata": {
            "tags": []
          },
          "execution_count": 26
        }
      ]
    },
    {
      "cell_type": "code",
      "metadata": {
        "colab": {
          "base_uri": "https://localhost:8080/"
        },
        "id": "XAs7mzTa_Nmf",
        "outputId": "e800c137-54aa-4608-ca89-5df9cc559e90"
      },
      "source": [
        "p = []\n",
        "for i in range(len(y_test)):\n",
        "  pred = pac.predict([X_test_mfcc[i]])\n",
        "  p.append(pred)\n",
        "p[-10:-1]"
      ],
      "execution_count": null,
      "outputs": [
        {
          "output_type": "execute_result",
          "data": {
            "text/plain": [
              "[array([204]),\n",
              " array([204]),\n",
              " array([204]),\n",
              " array([127]),\n",
              " array([64]),\n",
              " array([132]),\n",
              " array([56]),\n",
              " array([135]),\n",
              " array([135])]"
            ]
          },
          "metadata": {
            "tags": []
          },
          "execution_count": 27
        }
      ]
    },
    {
      "cell_type": "code",
      "metadata": {
        "colab": {
          "base_uri": "https://localhost:8080/"
        },
        "id": "QJoPSHhdZvks",
        "outputId": "231a7473-cb1a-4238-b478-e2639f1ee6f2"
      },
      "source": [
        ""
      ],
      "execution_count": null,
      "outputs": [
        {
          "output_type": "execute_result",
          "data": {
            "text/plain": [
              "([array([135]),\n",
              "  array([135]),\n",
              "  array([135]),\n",
              "  array([109]),\n",
              "  array([135]),\n",
              "  array([119]),\n",
              "  array([135]),\n",
              "  array([135]),\n",
              "  array([135]),\n",
              "  array([135]),\n",
              "  array([109]),\n",
              "  array([135]),\n",
              "  array([135]),\n",
              "  array([135]),\n",
              "  array([127]),\n",
              "  array([64]),\n",
              "  array([132]),\n",
              "  array([56]),\n",
              "  array([135]),\n",
              "  array([135]),\n",
              "  array([135])],\n",
              " [24,\n",
              "  24,\n",
              "  28,\n",
              "  66,\n",
              "  67,\n",
              "  102,\n",
              "  107,\n",
              "  111,\n",
              "  140,\n",
              "  162,\n",
              "  171,\n",
              "  174,\n",
              "  174,\n",
              "  187,\n",
              "  205,\n",
              "  205,\n",
              "  205,\n",
              "  205,\n",
              "  205,\n",
              "  205,\n",
              "  205])"
            ]
          },
          "metadata": {
            "tags": []
          },
          "execution_count": 103
        }
      ]
    },
    {
      "cell_type": "code",
      "metadata": {
        "id": "41y8MDaA7qy1"
      },
      "source": [
        "import joblib"
      ],
      "execution_count": null,
      "outputs": []
    },
    {
      "cell_type": "code",
      "metadata": {
        "colab": {
          "base_uri": "https://localhost:8080/"
        },
        "id": "NoXflFV1GVOn",
        "outputId": "5033a2e3-e039-47ec-af4b-5319eca49f4d"
      },
      "source": [
        "filename = 'pac_20_91.sav'\n",
        "joblib.dump(pac, filename)"
      ],
      "execution_count": null,
      "outputs": [
        {
          "output_type": "execute_result",
          "data": {
            "text/plain": [
              "['pac_20_91.sav']"
            ]
          },
          "metadata": {
            "tags": []
          },
          "execution_count": 40
        }
      ]
    },
    {
      "cell_type": "code",
      "metadata": {
        "colab": {
          "base_uri": "https://localhost:8080/"
        },
        "id": "g2402Ca2PWQ5",
        "outputId": "9e9b6c63-b75b-4d94-bdd6-a50b373c507b"
      },
      "source": [
        ""
      ],
      "execution_count": null,
      "outputs": [
        {
          "output_type": "execute_result",
          "data": {
            "text/plain": [
              "[array([202]),\n",
              " array([202]),\n",
              " array([202]),\n",
              " array([202]),\n",
              " array([202]),\n",
              " array([203]),\n",
              " array([203]),\n",
              " array([203]),\n",
              " array([203]),\n",
              " array([204]),\n",
              " array([109]),\n",
              " array([111]),\n",
              " array([109]),\n",
              " array([189]),\n",
              " array([105]),\n",
              " array([141]),\n",
              " array([127]),\n",
              " array([135]),\n",
              " array([135])]"
            ]
          },
          "metadata": {
            "tags": []
          },
          "execution_count": 388
        }
      ]
    },
    {
      "cell_type": "code",
      "metadata": {
        "id": "cMN3PU3L-eUZ"
      },
      "source": [
        "from joblib import dump, load"
      ],
      "execution_count": null,
      "outputs": []
    },
    {
      "cell_type": "code",
      "metadata": {
        "id": "qE2Y4yg7-tqC"
      },
      "source": [
        "svm_sgd= load('/content/svm_sgd.sav') "
      ],
      "execution_count": null,
      "outputs": []
    },
    {
      "cell_type": "code",
      "metadata": {
        "id": "R0U8mVO9BIKY"
      },
      "source": [
        "pac= load('/content/pac.sav') "
      ],
      "execution_count": null,
      "outputs": []
    },
    {
      "cell_type": "code",
      "metadata": {
        "id": "LM1GXcmO-5Cy"
      },
      "source": [
        "y_pred_svm = svm_sgd.predict(X_test)"
      ],
      "execution_count": null,
      "outputs": []
    },
    {
      "cell_type": "code",
      "metadata": {
        "id": "oFQKGOLWBWs4"
      },
      "source": [
        "y_pred_pac = pac.predict(X_test)"
      ],
      "execution_count": null,
      "outputs": []
    },
    {
      "cell_type": "code",
      "metadata": {
        "id": "u1x9rfpf_K2a"
      },
      "source": [
        "import pandas as pd"
      ],
      "execution_count": null,
      "outputs": []
    },
    {
      "cell_type": "code",
      "metadata": {
        "colab": {
          "base_uri": "https://localhost:8080/",
          "height": 639
        },
        "id": "5N5pw8LEAANR",
        "outputId": "0772118b-6d17-4f8e-84f1-23f1780af7cc"
      },
      "source": [
        "my_submit = pd.DataFrame({'Expected': y_test, 'Predicted_svm': y_pred_svm,'Predicted_pac': y_pred_pac})\n",
        "my_submit.head(20)"
      ],
      "execution_count": null,
      "outputs": [
        {
          "output_type": "execute_result",
          "data": {
            "text/html": [
              "<div>\n",
              "<style scoped>\n",
              "    .dataframe tbody tr th:only-of-type {\n",
              "        vertical-align: middle;\n",
              "    }\n",
              "\n",
              "    .dataframe tbody tr th {\n",
              "        vertical-align: top;\n",
              "    }\n",
              "\n",
              "    .dataframe thead th {\n",
              "        text-align: right;\n",
              "    }\n",
              "</style>\n",
              "<table border=\"1\" class=\"dataframe\">\n",
              "  <thead>\n",
              "    <tr style=\"text-align: right;\">\n",
              "      <th></th>\n",
              "      <th>Expected</th>\n",
              "      <th>Predicted_svm</th>\n",
              "      <th>Predicted_pac</th>\n",
              "    </tr>\n",
              "  </thead>\n",
              "  <tbody>\n",
              "    <tr>\n",
              "      <th>0</th>\n",
              "      <td>0</td>\n",
              "      <td>0</td>\n",
              "      <td>0</td>\n",
              "    </tr>\n",
              "    <tr>\n",
              "      <th>1</th>\n",
              "      <td>0</td>\n",
              "      <td>131</td>\n",
              "      <td>131</td>\n",
              "    </tr>\n",
              "    <tr>\n",
              "      <th>2</th>\n",
              "      <td>0</td>\n",
              "      <td>0</td>\n",
              "      <td>0</td>\n",
              "    </tr>\n",
              "    <tr>\n",
              "      <th>3</th>\n",
              "      <td>0</td>\n",
              "      <td>0</td>\n",
              "      <td>0</td>\n",
              "    </tr>\n",
              "    <tr>\n",
              "      <th>4</th>\n",
              "      <td>0</td>\n",
              "      <td>0</td>\n",
              "      <td>0</td>\n",
              "    </tr>\n",
              "    <tr>\n",
              "      <th>5</th>\n",
              "      <td>1</td>\n",
              "      <td>1</td>\n",
              "      <td>1</td>\n",
              "    </tr>\n",
              "    <tr>\n",
              "      <th>6</th>\n",
              "      <td>1</td>\n",
              "      <td>1</td>\n",
              "      <td>1</td>\n",
              "    </tr>\n",
              "    <tr>\n",
              "      <th>7</th>\n",
              "      <td>1</td>\n",
              "      <td>1</td>\n",
              "      <td>1</td>\n",
              "    </tr>\n",
              "    <tr>\n",
              "      <th>8</th>\n",
              "      <td>1</td>\n",
              "      <td>1</td>\n",
              "      <td>1</td>\n",
              "    </tr>\n",
              "    <tr>\n",
              "      <th>9</th>\n",
              "      <td>1</td>\n",
              "      <td>1</td>\n",
              "      <td>1</td>\n",
              "    </tr>\n",
              "    <tr>\n",
              "      <th>10</th>\n",
              "      <td>1</td>\n",
              "      <td>1</td>\n",
              "      <td>1</td>\n",
              "    </tr>\n",
              "    <tr>\n",
              "      <th>11</th>\n",
              "      <td>2</td>\n",
              "      <td>102</td>\n",
              "      <td>102</td>\n",
              "    </tr>\n",
              "    <tr>\n",
              "      <th>12</th>\n",
              "      <td>2</td>\n",
              "      <td>2</td>\n",
              "      <td>2</td>\n",
              "    </tr>\n",
              "    <tr>\n",
              "      <th>13</th>\n",
              "      <td>2</td>\n",
              "      <td>32</td>\n",
              "      <td>171</td>\n",
              "    </tr>\n",
              "    <tr>\n",
              "      <th>14</th>\n",
              "      <td>2</td>\n",
              "      <td>44</td>\n",
              "      <td>2</td>\n",
              "    </tr>\n",
              "    <tr>\n",
              "      <th>15</th>\n",
              "      <td>3</td>\n",
              "      <td>3</td>\n",
              "      <td>3</td>\n",
              "    </tr>\n",
              "    <tr>\n",
              "      <th>16</th>\n",
              "      <td>3</td>\n",
              "      <td>3</td>\n",
              "      <td>3</td>\n",
              "    </tr>\n",
              "    <tr>\n",
              "      <th>17</th>\n",
              "      <td>3</td>\n",
              "      <td>3</td>\n",
              "      <td>3</td>\n",
              "    </tr>\n",
              "    <tr>\n",
              "      <th>18</th>\n",
              "      <td>3</td>\n",
              "      <td>3</td>\n",
              "      <td>3</td>\n",
              "    </tr>\n",
              "    <tr>\n",
              "      <th>19</th>\n",
              "      <td>3</td>\n",
              "      <td>52</td>\n",
              "      <td>3</td>\n",
              "    </tr>\n",
              "  </tbody>\n",
              "</table>\n",
              "</div>"
            ],
            "text/plain": [
              "    Expected  Predicted_svm  Predicted_pac\n",
              "0          0              0              0\n",
              "1          0            131            131\n",
              "2          0              0              0\n",
              "3          0              0              0\n",
              "4          0              0              0\n",
              "5          1              1              1\n",
              "6          1              1              1\n",
              "7          1              1              1\n",
              "8          1              1              1\n",
              "9          1              1              1\n",
              "10         1              1              1\n",
              "11         2            102            102\n",
              "12         2              2              2\n",
              "13         2             32            171\n",
              "14         2             44              2\n",
              "15         3              3              3\n",
              "16         3              3              3\n",
              "17         3              3              3\n",
              "18         3              3              3\n",
              "19         3             52              3"
            ]
          },
          "metadata": {
            "tags": []
          },
          "execution_count": 25
        }
      ]
    },
    {
      "cell_type": "code",
      "metadata": {
        "id": "Y6OvADyVHS5a"
      },
      "source": [
        "nn = pd.read_csv('/content/nn_predictions.csv', index_col='Unnamed: 0')"
      ],
      "execution_count": null,
      "outputs": []
    },
    {
      "cell_type": "code",
      "metadata": {
        "id": "a-Nk1x9mHeru"
      },
      "source": [
        "predicted_nn = nn['Predicted_svm']"
      ],
      "execution_count": null,
      "outputs": []
    },
    {
      "cell_type": "code",
      "metadata": {
        "id": "r5w8DsG9IRQI"
      },
      "source": [
        "my_submit['Predicted_nn'] = predicted_nn"
      ],
      "execution_count": null,
      "outputs": []
    },
    {
      "cell_type": "code",
      "metadata": {
        "colab": {
          "base_uri": "https://localhost:8080/",
          "height": 639
        },
        "id": "sd-nJwPLIV-G",
        "outputId": "d0a1c161-3d4c-4e0d-a2e6-7b31981fe009"
      },
      "source": [
        "my_submit.sample(n=20)"
      ],
      "execution_count": null,
      "outputs": [
        {
          "output_type": "execute_result",
          "data": {
            "text/html": [
              "<div>\n",
              "<style scoped>\n",
              "    .dataframe tbody tr th:only-of-type {\n",
              "        vertical-align: middle;\n",
              "    }\n",
              "\n",
              "    .dataframe tbody tr th {\n",
              "        vertical-align: top;\n",
              "    }\n",
              "\n",
              "    .dataframe thead th {\n",
              "        text-align: right;\n",
              "    }\n",
              "</style>\n",
              "<table border=\"1\" class=\"dataframe\">\n",
              "  <thead>\n",
              "    <tr style=\"text-align: right;\">\n",
              "      <th></th>\n",
              "      <th>Expected</th>\n",
              "      <th>Predicted_svm</th>\n",
              "      <th>Predicted_pac</th>\n",
              "      <th>Predicted_nn</th>\n",
              "    </tr>\n",
              "  </thead>\n",
              "  <tbody>\n",
              "    <tr>\n",
              "      <th>1026</th>\n",
              "      <td>174</td>\n",
              "      <td>174</td>\n",
              "      <td>174</td>\n",
              "      <td>174</td>\n",
              "    </tr>\n",
              "    <tr>\n",
              "      <th>936</th>\n",
              "      <td>165</td>\n",
              "      <td>165</td>\n",
              "      <td>165</td>\n",
              "      <td>165</td>\n",
              "    </tr>\n",
              "    <tr>\n",
              "      <th>187</th>\n",
              "      <td>30</td>\n",
              "      <td>30</td>\n",
              "      <td>30</td>\n",
              "      <td>30</td>\n",
              "    </tr>\n",
              "    <tr>\n",
              "      <th>1124</th>\n",
              "      <td>183</td>\n",
              "      <td>183</td>\n",
              "      <td>183</td>\n",
              "      <td>183</td>\n",
              "    </tr>\n",
              "    <tr>\n",
              "      <th>369</th>\n",
              "      <td>60</td>\n",
              "      <td>60</td>\n",
              "      <td>60</td>\n",
              "      <td>23</td>\n",
              "    </tr>\n",
              "    <tr>\n",
              "      <th>821</th>\n",
              "      <td>139</td>\n",
              "      <td>139</td>\n",
              "      <td>139</td>\n",
              "      <td>139</td>\n",
              "    </tr>\n",
              "    <tr>\n",
              "      <th>8</th>\n",
              "      <td>1</td>\n",
              "      <td>1</td>\n",
              "      <td>1</td>\n",
              "      <td>1</td>\n",
              "    </tr>\n",
              "    <tr>\n",
              "      <th>224</th>\n",
              "      <td>37</td>\n",
              "      <td>37</td>\n",
              "      <td>37</td>\n",
              "      <td>37</td>\n",
              "    </tr>\n",
              "    <tr>\n",
              "      <th>593</th>\n",
              "      <td>103</td>\n",
              "      <td>202</td>\n",
              "      <td>156</td>\n",
              "      <td>103</td>\n",
              "    </tr>\n",
              "    <tr>\n",
              "      <th>584</th>\n",
              "      <td>102</td>\n",
              "      <td>102</td>\n",
              "      <td>102</td>\n",
              "      <td>102</td>\n",
              "    </tr>\n",
              "    <tr>\n",
              "      <th>1272</th>\n",
              "      <td>183</td>\n",
              "      <td>183</td>\n",
              "      <td>183</td>\n",
              "      <td>183</td>\n",
              "    </tr>\n",
              "    <tr>\n",
              "      <th>951</th>\n",
              "      <td>168</td>\n",
              "      <td>168</td>\n",
              "      <td>168</td>\n",
              "      <td>168</td>\n",
              "    </tr>\n",
              "    <tr>\n",
              "      <th>1172</th>\n",
              "      <td>183</td>\n",
              "      <td>183</td>\n",
              "      <td>183</td>\n",
              "      <td>183</td>\n",
              "    </tr>\n",
              "    <tr>\n",
              "      <th>859</th>\n",
              "      <td>149</td>\n",
              "      <td>165</td>\n",
              "      <td>149</td>\n",
              "      <td>149</td>\n",
              "    </tr>\n",
              "    <tr>\n",
              "      <th>1338</th>\n",
              "      <td>196</td>\n",
              "      <td>55</td>\n",
              "      <td>36</td>\n",
              "      <td>169</td>\n",
              "    </tr>\n",
              "    <tr>\n",
              "      <th>647</th>\n",
              "      <td>112</td>\n",
              "      <td>112</td>\n",
              "      <td>112</td>\n",
              "      <td>112</td>\n",
              "    </tr>\n",
              "    <tr>\n",
              "      <th>815</th>\n",
              "      <td>138</td>\n",
              "      <td>138</td>\n",
              "      <td>138</td>\n",
              "      <td>138</td>\n",
              "    </tr>\n",
              "    <tr>\n",
              "      <th>856</th>\n",
              "      <td>148</td>\n",
              "      <td>148</td>\n",
              "      <td>148</td>\n",
              "      <td>148</td>\n",
              "    </tr>\n",
              "    <tr>\n",
              "      <th>474</th>\n",
              "      <td>83</td>\n",
              "      <td>83</td>\n",
              "      <td>83</td>\n",
              "      <td>83</td>\n",
              "    </tr>\n",
              "    <tr>\n",
              "      <th>1036</th>\n",
              "      <td>175</td>\n",
              "      <td>175</td>\n",
              "      <td>175</td>\n",
              "      <td>175</td>\n",
              "    </tr>\n",
              "  </tbody>\n",
              "</table>\n",
              "</div>"
            ],
            "text/plain": [
              "      Expected  Predicted_svm  Predicted_pac  Predicted_nn\n",
              "1026       174            174            174           174\n",
              "936        165            165            165           165\n",
              "187         30             30             30            30\n",
              "1124       183            183            183           183\n",
              "369         60             60             60            23\n",
              "821        139            139            139           139\n",
              "8            1              1              1             1\n",
              "224         37             37             37            37\n",
              "593        103            202            156           103\n",
              "584        102            102            102           102\n",
              "1272       183            183            183           183\n",
              "951        168            168            168           168\n",
              "1172       183            183            183           183\n",
              "859        149            165            149           149\n",
              "1338       196             55             36           169\n",
              "647        112            112            112           112\n",
              "815        138            138            138           138\n",
              "856        148            148            148           148\n",
              "474         83             83             83            83\n",
              "1036       175            175            175           175"
            ]
          },
          "metadata": {
            "tags": []
          },
          "execution_count": 33
        }
      ]
    },
    {
      "cell_type": "code",
      "metadata": {
        "id": "jhGFB3k5H-8D"
      },
      "source": [
        "my_submit.to_csv('/content/predictions.csv', index=True,)"
      ],
      "execution_count": null,
      "outputs": []
    },
    {
      "cell_type": "code",
      "metadata": {
        "id": "2i22SkXaHJ1c"
      },
      "source": [
        ""
      ],
      "execution_count": null,
      "outputs": []
    },
    {
      "cell_type": "code",
      "metadata": {
        "id": "huVpSwGMH4Vy"
      },
      "source": [
        ""
      ],
      "execution_count": null,
      "outputs": []
    },
    {
      "cell_type": "code",
      "metadata": {
        "id": "5vo-EbGtHTFg"
      },
      "source": [
        ""
      ],
      "execution_count": null,
      "outputs": []
    },
    {
      "cell_type": "code",
      "metadata": {
        "colab": {
          "base_uri": "https://localhost:8080/",
          "height": 402
        },
        "id": "e_7sxEWgIETV",
        "outputId": "43dfa5a8-ba22-4647-b25e-d28392d1a637"
      },
      "source": [
        ""
      ],
      "execution_count": null,
      "outputs": [
        {
          "output_type": "execute_result",
          "data": {
            "text/html": [
              "<div>\n",
              "<style scoped>\n",
              "    .dataframe tbody tr th:only-of-type {\n",
              "        vertical-align: middle;\n",
              "    }\n",
              "\n",
              "    .dataframe tbody tr th {\n",
              "        vertical-align: top;\n",
              "    }\n",
              "\n",
              "    .dataframe thead th {\n",
              "        text-align: right;\n",
              "    }\n",
              "</style>\n",
              "<table border=\"1\" class=\"dataframe\">\n",
              "  <thead>\n",
              "    <tr style=\"text-align: right;\">\n",
              "      <th></th>\n",
              "      <th>Unnamed: 0</th>\n",
              "      <th>Expected</th>\n",
              "      <th>Predicted_svm</th>\n",
              "      <th>Predicted_pac</th>\n",
              "      <th>Predicted_nn</th>\n",
              "    </tr>\n",
              "  </thead>\n",
              "  <tbody>\n",
              "    <tr>\n",
              "      <th>0</th>\n",
              "      <td>0.0</td>\n",
              "      <td>0.0</td>\n",
              "      <td>0.0</td>\n",
              "      <td>0.0</td>\n",
              "      <td>0.0</td>\n",
              "    </tr>\n",
              "    <tr>\n",
              "      <th>1</th>\n",
              "      <td>1.0</td>\n",
              "      <td>0.0</td>\n",
              "      <td>131.0</td>\n",
              "      <td>131.0</td>\n",
              "      <td>0.0</td>\n",
              "    </tr>\n",
              "    <tr>\n",
              "      <th>2</th>\n",
              "      <td>2.0</td>\n",
              "      <td>0.0</td>\n",
              "      <td>0.0</td>\n",
              "      <td>0.0</td>\n",
              "      <td>0.0</td>\n",
              "    </tr>\n",
              "    <tr>\n",
              "      <th>3</th>\n",
              "      <td>3.0</td>\n",
              "      <td>0.0</td>\n",
              "      <td>0.0</td>\n",
              "      <td>0.0</td>\n",
              "      <td>0.0</td>\n",
              "    </tr>\n",
              "    <tr>\n",
              "      <th>4</th>\n",
              "      <td>4.0</td>\n",
              "      <td>0.0</td>\n",
              "      <td>0.0</td>\n",
              "      <td>0.0</td>\n",
              "      <td>0.0</td>\n",
              "    </tr>\n",
              "    <tr>\n",
              "      <th>...</th>\n",
              "      <td>...</td>\n",
              "      <td>...</td>\n",
              "      <td>...</td>\n",
              "      <td>...</td>\n",
              "      <td>...</td>\n",
              "    </tr>\n",
              "    <tr>\n",
              "      <th>1374</th>\n",
              "      <td>1374.0</td>\n",
              "      <td>204.0</td>\n",
              "      <td>109.0</td>\n",
              "      <td>109.0</td>\n",
              "      <td>93.0</td>\n",
              "    </tr>\n",
              "    <tr>\n",
              "      <th>1375</th>\n",
              "      <td>1375.0</td>\n",
              "      <td>204.0</td>\n",
              "      <td>109.0</td>\n",
              "      <td>109.0</td>\n",
              "      <td>67.0</td>\n",
              "    </tr>\n",
              "    <tr>\n",
              "      <th>1376</th>\n",
              "      <td>1376.0</td>\n",
              "      <td>204.0</td>\n",
              "      <td>204.0</td>\n",
              "      <td>204.0</td>\n",
              "      <td>204.0</td>\n",
              "    </tr>\n",
              "    <tr>\n",
              "      <th>1377</th>\n",
              "      <td>NaN</td>\n",
              "      <td>NaN</td>\n",
              "      <td>NaN</td>\n",
              "      <td>NaN</td>\n",
              "      <td>NaN</td>\n",
              "    </tr>\n",
              "    <tr>\n",
              "      <th>1378</th>\n",
              "      <td>NaN</td>\n",
              "      <td>NaN</td>\n",
              "      <td>NaN</td>\n",
              "      <td>NaN</td>\n",
              "      <td>NaN</td>\n",
              "    </tr>\n",
              "  </tbody>\n",
              "</table>\n",
              "<p>1379 rows × 5 columns</p>\n",
              "</div>"
            ],
            "text/plain": [
              "      Unnamed: 0  Expected  Predicted_svm  Predicted_pac  Predicted_nn\n",
              "0            0.0       0.0            0.0            0.0           0.0\n",
              "1            1.0       0.0          131.0          131.0           0.0\n",
              "2            2.0       0.0            0.0            0.0           0.0\n",
              "3            3.0       0.0            0.0            0.0           0.0\n",
              "4            4.0       0.0            0.0            0.0           0.0\n",
              "...          ...       ...            ...            ...           ...\n",
              "1374      1374.0     204.0          109.0          109.0          93.0\n",
              "1375      1375.0     204.0          109.0          109.0          67.0\n",
              "1376      1376.0     204.0          204.0          204.0         204.0\n",
              "1377         NaN       NaN            NaN            NaN           NaN\n",
              "1378         NaN       NaN            NaN            NaN           NaN\n",
              "\n",
              "[1379 rows x 5 columns]"
            ]
          },
          "metadata": {
            "tags": []
          },
          "execution_count": 7
        }
      ]
    },
    {
      "cell_type": "code",
      "metadata": {
        "id": "MR8wobS-IEFK"
      },
      "source": [
        ""
      ],
      "execution_count": null,
      "outputs": []
    },
    {
      "cell_type": "markdown",
      "metadata": {
        "id": "jvvh1D4NA1S4"
      },
      "source": [
        "\n",
        "# CATBOOST\n"
      ]
    },
    {
      "cell_type": "code",
      "metadata": {
        "id": "kbSP_r7oqhLz"
      },
      "source": [
        "# Code for recording audio from the browser\n",
        "from IPython.display import Javascript\n",
        "from google.colab import output\n",
        "from base64 import b64decode\n",
        "import IPython\n",
        "import uuid\n",
        "from google.colab import output\n",
        "\n",
        "\n",
        "class InvokeButton(object):\n",
        "  def __init__(self, title, callback):\n",
        "    self._title = title\n",
        "    self._callback = callback\n",
        "\n",
        "  def _repr_html_(self):\n",
        "    from google.colab import output\n",
        "    callback_id = 'button-' + str(uuid.uuid4())\n",
        "    output.register_callback(callback_id, self._callback)\n",
        "\n",
        "    template = \"\"\"<button id=\"{callback_id}\" style=\"cursor:pointer;background-color:#EEEEEE;border-color:#E0E0E0;padding:5px 15px;font-size:14px\">{title}</button>\n",
        "        <script>\n",
        "          document.querySelector(\"#{callback_id}\").onclick = (e) => {{\n",
        "            google.colab.kernel.invokeFunction('{callback_id}', [], {{}})\n",
        "            e.preventDefault();\n",
        "          }};\n",
        "        </script>\"\"\"\n",
        "    html = template.format(title=self._title, callback_id=callback_id)\n",
        "    return html\n",
        "\n",
        "RECORD = \"\"\"\n",
        "const sleep  = time => new Promise(resolve => setTimeout(resolve, time))\n",
        "const b2text = blob => new Promise(resolve => {\n",
        "  const reader = new FileReader()\n",
        "  reader.onloadend = e => resolve(e.srcElement.result)\n",
        "  reader.readAsDataURL(blob)\n",
        "})\n",
        "var record = time => new Promise(async resolve => {\n",
        "  stream = await navigator.mediaDevices.getUserMedia({ audio: true })\n",
        "  recorder = new MediaRecorder(stream)\n",
        "  chunks = []\n",
        "  recorder.ondataavailable = e => chunks.push(e.data)\n",
        "  recorder.start()\n",
        "  await sleep(time)\n",
        "  recorder.onstop = async ()=>{\n",
        "    blob = new Blob(chunks)\n",
        "    text = await b2text(blob)\n",
        "    resolve(text)\n",
        "  }\n",
        "  recorder.stop()\n",
        "})\n",
        "\"\"\"\n",
        "\n",
        "def record(sec=3):\n",
        "  display(Javascript(RECORD))\n",
        "  s = output.eval_js('record(%d)' % (sec*1000))\n",
        "  b = b64decode(s.split(',')[1])\n",
        "  with open('audio.wav','wb+') as f:\n",
        "    f.write(b)\n",
        "  return 'audio.wav'"
      ],
      "execution_count": null,
      "outputs": []
    },
    {
      "cell_type": "code",
      "metadata": {
        "id": "SLJY-AvMrKjT"
      },
      "source": [
        "def classify(clf):\n",
        "  print(\"Now recording for 3 seconds, say what you will...\")\n",
        "  record()\n",
        "  os.system('ffmpeg -i audio.wav -ar 8000 -y audio.wav')\n",
        "  audio, sr = librosa.load('audio.wav')\n",
        "  mfcc = [librosa.feature.mfcc(audio[0:8000], sr, n_mfcc=80).reshape(80*16)]\n",
        "  print(f\"Audio recording complete, guess it is {clf.predict(mfcc)}\")\n",
        "  mfcc = [librosa.feature.mfcc(audio[8000:16000], sr, n_mfcc=80).reshape(80*16)]\n",
        "  print(f\"Audio recording complete, guess it is {clf.predict(mfcc)}\")\n",
        "  mfcc = [librosa.feature.mfcc(audio[16000:24000], sr, n_mfcc=80).reshape(80*16)]\n",
        "  print(f\"Audio recording complete, guess it is {clf.predict(mfcc)}\")\n",
        "\n"
      ],
      "execution_count": null,
      "outputs": []
    },
    {
      "cell_type": "code",
      "metadata": {
        "colab": {
          "base_uri": "https://localhost:8080/",
          "height": 84
        },
        "id": "wZCnzkAFsLkr",
        "outputId": "bfdfc0b3-c7ba-40df-c0ac-023b7b53ee6c"
      },
      "source": [
        "classify(clf)"
      ],
      "execution_count": null,
      "outputs": [
        {
          "output_type": "stream",
          "text": [
            "Now recording for 3 seconds, say what you will...\n"
          ],
          "name": "stdout"
        },
        {
          "output_type": "display_data",
          "data": {
            "application/javascript": [
              "\n",
              "const sleep  = time => new Promise(resolve => setTimeout(resolve, time))\n",
              "const b2text = blob => new Promise(resolve => {\n",
              "  const reader = new FileReader()\n",
              "  reader.onloadend = e => resolve(e.srcElement.result)\n",
              "  reader.readAsDataURL(blob)\n",
              "})\n",
              "var record = time => new Promise(async resolve => {\n",
              "  stream = await navigator.mediaDevices.getUserMedia({ audio: true })\n",
              "  recorder = new MediaRecorder(stream)\n",
              "  chunks = []\n",
              "  recorder.ondataavailable = e => chunks.push(e.data)\n",
              "  recorder.start()\n",
              "  await sleep(time)\n",
              "  recorder.onstop = async ()=>{\n",
              "    blob = new Blob(chunks)\n",
              "    text = await b2text(blob)\n",
              "    resolve(text)\n",
              "  }\n",
              "  recorder.stop()\n",
              "})\n"
            ],
            "text/plain": [
              "<IPython.core.display.Javascript object>"
            ]
          },
          "metadata": {
            "tags": []
          }
        },
        {
          "output_type": "stream",
          "text": [
            "Audio recording complete, guess it is [135]\n",
            "Audio recording complete, guess it is [111]\n",
            "Audio recording complete, guess it is [111]\n"
          ],
          "name": "stdout"
        }
      ]
    },
    {
      "cell_type": "code",
      "metadata": {
        "colab": {
          "base_uri": "https://localhost:8080/"
        },
        "id": "Z0ZGtio15yNS",
        "outputId": "3fa059fc-6742-4bd1-c119-1d72117b53aa"
      },
      "source": [
        "sgd_svm.predict([X_test_mfcc[-10]])"
      ],
      "execution_count": null,
      "outputs": [
        {
          "output_type": "execute_result",
          "data": {
            "text/plain": [
              "array([204])"
            ]
          },
          "metadata": {
            "tags": []
          },
          "execution_count": 166
        }
      ]
    },
    {
      "cell_type": "code",
      "metadata": {
        "id": "U_m0SCZYiuEP"
      },
      "source": [
        "import soundfile as sf"
      ],
      "execution_count": null,
      "outputs": []
    },
    {
      "cell_type": "code",
      "metadata": {
        "id": "SQ8Q7I5qjjL-"
      },
      "source": [
        "list_205_test = data_205_train.voiceprint.to_list()"
      ],
      "execution_count": null,
      "outputs": []
    },
    {
      "cell_type": "code",
      "metadata": {
        "colab": {
          "base_uri": "https://localhost:8080/"
        },
        "id": "sm6SuqAtl1pl",
        "outputId": "eb7dbac6-945e-46ba-aa92-adc5d1ebcd8f"
      },
      "source": [
        "c=0\n",
        "for i in list_205_test:\n",
        "  print(np.array(i[1:-1].split(\",\"), dtype=float))\n",
        "  sf.write(str(c)+\".wav\",np.array(i[1:-1].split(\",\"), dtype=float), 8000)\n",
        "  c+=1"
      ],
      "execution_count": null,
      "outputs": [
        {
          "output_type": "stream",
          "text": [
            "[ 0.00000000e+00  0.00000000e+00 -3.05175781e-05 ... -6.65466309e-01\n",
            " -6.37878418e-01 -6.95037842e-01]\n",
            "[-0.00054932  0.00027466 -0.00143433 ...  0.0010376   0.00042725\n",
            "  0.00482178]\n",
            "[ 0.00527954 -0.00552368 -0.05566406 ... -0.00164795 -0.00085449\n",
            "  0.00064087]\n",
            "[ 0.12719727  0.10165405  0.11297607 ...  0.00549316 -0.0112915\n",
            " -0.01809692]\n",
            "[ 0.25561523  0.06335449 -0.05722046 ... -0.08648682 -0.09136963\n",
            " -0.08868408]\n",
            "[-0.13897705 -0.06365967  0.01046753 ... -0.00802612  0.00256348\n",
            "  0.01446533]\n",
            "[-0.06619263 -0.14401245  0.03790283 ...  0.14413452  0.11227417\n",
            "  0.06335449]\n",
            "[0.00283813 0.2348938  0.2925415  ... 0.00088501 0.00216675 0.00091553]\n",
            "[ 0.18811035  0.19894409  0.15820312 ... -0.01281738 -0.04348755\n",
            " -0.05108643]\n",
            "[-0.04199219 -0.01611328  0.03753662 ...  0.12030029  0.05706787\n",
            "  0.01101685]\n",
            "[0.23233032 0.23599243 0.1769104  ... 0.19812012 0.26464844 0.26062012]\n",
            "[0.2947998  0.25250244 0.1809082  ... 0.00390625 0.00772095 0.0105896 ]\n",
            "[-0.0609436  -0.01013184 -0.08877563 ... -0.00134277  0.00100708\n",
            "  0.00149536]\n",
            "[-0.00097656 -0.00683594  0.01321411 ...  0.03158569  0.03012085\n",
            "  0.00466919]\n",
            "[2.65502930e-03 1.12915039e-03 1.22070312e-04 ... 1.41052246e-01\n",
            " 1.14715576e-01 1.40319824e-01]\n",
            "[ 0.06777954  0.06420898 -0.00375366 ...  0.00476074  0.00076294\n",
            "  0.00039673]\n",
            "[-9.69238281e-02 -1.53839111e-01 -1.87927246e-01 ...  8.85009766e-04\n",
            " -1.83105469e-04 -2.50244141e-03]\n",
            "[-0.0171814  -0.02059937  0.01123047 ...  0.06478882  0.10943604\n",
            "  0.13336182]\n",
            "[-1.52587891e-04  6.10351562e-04  6.10351562e-04 ...  2.41027832e-01\n",
            "  2.09411621e-01  1.95709229e-01]\n",
            "[ 0.0027771   0.00134277 -0.00247192 ...  0.04214478 -0.03646851\n",
            " -0.10824585]\n",
            "[-1.12915039e-03  5.79833984e-04 -1.92260742e-03 ...  9.15527344e-05\n",
            "  3.23486328e-03 -3.05175781e-05]\n",
            "[-0.00253296 -0.00177002 -0.00131226 ... -0.00012207  0.00042725\n",
            "  0.00189209]\n",
            "[-0.00033569 -0.00039673  0.00048828 ...  0.01208496  0.00198364\n",
            " -0.00808716]\n",
            "[-0.04797363 -0.01754761 -0.05361938 ...  0.08251953  0.25418091\n",
            "  0.31399536]\n",
            "[ 0.06860352 -0.02108765 -0.06893921 ...  0.1272583  -0.86627197\n",
            " -0.59579468]\n",
            "[ 0.03509521  0.01190186 -0.00894165 ...  0.03512573  0.0302124\n",
            "  0.03045654]\n",
            "[-0.00390625 -0.00323486 -0.00305176 ...  0.02175903  0.0328064\n",
            "  0.02801514]\n",
            "[0.20211792 0.21395874 0.07199097 ... 0.0305481  0.23922729 0.34292603]\n",
            "[ 0.00546265  0.19622803  0.3190918  ... -0.10031128 -0.32778931\n",
            " -0.43991089]\n",
            "[ 2.44140625e-04  9.76562500e-04  6.10351562e-05 ...  1.83105469e-03\n",
            " -9.15527344e-05 -3.35693359e-04]\n",
            "[-0.01806641 -0.03494263  0.00802612 ...  0.00234985  0.00296021\n",
            "  0.0015564 ]\n",
            "[ 0.1076355   0.137146    0.22296143 ... -0.00378418  0.0007019\n",
            "  0.00152588]\n",
            "[0.18121338 0.19534302 0.18084717 ... 0.18515015 0.15045166 0.18051147]\n",
            "[ 0.00701904  0.00744629 -0.00378418 ... -0.00448608 -0.00436401\n",
            " -0.00189209]\n",
            "[-0.00402832  0.01196289  0.01062012 ... -0.01361084 -0.00354004\n",
            "  0.00820923]\n",
            "[ 0.          0.00015259  0.00140381 ... -0.02426147  0.00085449\n",
            "  0.00210571]\n",
            "[-0.04223633 -0.05484009 -0.06347656 ...  0.00469971  0.0012207\n",
            "  0.00292969]\n",
            "[ 0.20114136  0.10757446  0.00079346 ... -0.39111328 -0.49206543\n",
            " -0.56484985]\n",
            "[ 0.0133667   0.01660156  0.02310181 ... -0.02947998 -0.02676392\n",
            " -0.01931763]\n",
            "[ 0.00759888  0.00436401 -0.00234985 ... -0.01000977 -0.01098633\n",
            " -0.01004028]\n",
            "[-0.02670288 -0.08239746 -0.05838013 ... -0.00845337  0.01553345\n",
            "  0.05331421]\n",
            "[-0.43948364 -0.33093262 -0.17538452 ... -0.30569458 -0.33258057\n",
            " -0.11965942]\n",
            "[ 0.00982666  0.00250244 -0.00259399 ... -0.01934814 -0.03536987\n",
            " -0.04309082]\n",
            "[ 0.02627563  0.02737427  0.02835083 ... -0.02297974 -0.09518433\n",
            " -0.15032959]\n",
            "[-1.21459961e-01 -2.81127930e-01  2.99682617e-02 ...  7.93457031e-04\n",
            "  1.22070312e-04  2.13623047e-04]\n",
            "[ 7.20306396e-01  3.07830811e-01  2.65869141e-01 ... -3.47900391e-03\n",
            " -5.85937500e-03 -3.35693359e-04]\n",
            "[-2.31933594e-03 -3.05175781e-05  1.19018555e-03 ...  1.98059082e-02\n",
            "  2.51464844e-02  2.59399414e-02]\n",
            "[ 0.00250244 -0.00180054 -0.00048828 ...  0.05209351  0.02664185\n",
            "  0.00494385]\n",
            "[-0.01931763 -0.02844238 -0.0171814  ...  0.00576782  0.00793457\n",
            "  0.00430298]\n",
            "[ 0.00265503 -0.0012207  -0.00546265 ... -0.01126099 -0.01156616\n",
            " -0.00973511]\n",
            "[ 0.2807312  -0.07015991 -0.80227661 ... -0.05203247 -0.10723877\n",
            "  0.07644653]\n",
            "[ 0.02838135  0.00939941 -0.00491333 ... -0.20404053 -0.09390259\n",
            " -0.07739258]\n",
            "[ 0.09368896  0.10345459  0.08959961 ...  0.04629517 -0.02008057\n",
            " -0.10461426]\n",
            "[-0.07089233  0.02493286 -0.0947876  ...  0.12994385  0.14993286\n",
            "  0.12594604]\n",
            "[ 1.63726807e-01  1.25885010e-01  1.16729736e-01 ... -3.35693359e-04\n",
            "  1.22070312e-04  1.15966797e-03]\n",
            "[ 0.01678467  0.0201416   0.01425171 ... -0.00137329 -0.00378418\n",
            " -0.00457764]\n",
            "[-0.11474609 -0.06088257 -0.1651001  ... -0.02731323 -0.03915405\n",
            " -0.04232788]\n",
            "[ 0.00656128  0.00762939  0.0083313  ... -0.427948   -0.25219727\n",
            "  0.01956177]\n",
            "[-0.03302002 -0.02172852 -0.01629639 ... -0.08908081 -0.0930481\n",
            " -0.00640869]\n",
            "[ 0.00115967 -0.00131226 -0.00045776 ...  0.06085205  0.07455444\n",
            "  0.13406372]\n",
            "[ 0.134552    0.13516235  0.14807129 ... -0.01998901 -0.09564209\n",
            " -0.09381104]\n",
            "[-0.49035645 -0.33755493 -0.10647583 ... -0.00369263 -0.00537109\n",
            " -0.00271606]\n",
            "[0.03442383 0.03125    0.0352478  ... 0.08135986 0.08273315 0.12121582]\n",
            "[-0.04968262 -0.0536499  -0.05245972 ...  0.12731934  0.16015625\n",
            "  0.12243652]\n",
            "[-0.00140381  0.00192261 -0.00219727 ...  0.05456543  0.06698608\n",
            "  0.04397583]\n",
            "[ 1.03759766e-03  1.83105469e-04 -6.10351562e-05 ...  1.71813965e-02\n",
            " -1.36413574e-02 -1.52893066e-02]\n"
          ],
          "name": "stdout"
        }
      ]
    },
    {
      "cell_type": "code",
      "metadata": {
        "colab": {
          "base_uri": "https://localhost:8080/",
          "height": 75
        },
        "id": "SPaFVdIwiwwF",
        "outputId": "7d6866d5-57ac-44bd-a76c-b7106104f966"
      },
      "source": [
        "IPython.display.Audio('11.wav')"
      ],
      "execution_count": null,
      "outputs": [
        {
          "output_type": "execute_result",
          "data": {
            "text/html": [
              "\n",
              "                <audio controls=\"controls\" >\n",
              "                    <source src=\"data:audio/x-wav;base64,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\" type=\"audio/x-wav\" />\n",
              "                    Your browser does not support the audio element.\n",
              "                </audio>\n",
              "              "
            ],
            "text/plain": [
              "<IPython.lib.display.Audio object>"
            ]
          },
          "metadata": {
            "tags": []
          },
          "execution_count": 236
        }
      ]
    },
    {
      "cell_type": "code",
      "metadata": {
        "id": "v97yW43MRTaU"
      },
      "source": [
        ""
      ],
      "execution_count": null,
      "outputs": []
    },
    {
      "cell_type": "markdown",
      "metadata": {
        "id": "aaVYftMIRV-I"
      },
      "source": [
        "CNN # New Section"
      ]
    }
  ]
}